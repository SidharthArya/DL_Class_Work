{
  "nbformat": 4,
  "nbformat_minor": 0,
  "metadata": {
    "colab": {
      "name": "002-Gates-Using Perceptron-Model.ipynb",
      "provenance": [],
      "collapsed_sections": [],
      "authorship_tag": "ABX9TyMFNo35F3w/xV34rB1kkYA6",
      "include_colab_link": true
    },
    "kernelspec": {
      "name": "python3",
      "display_name": "Python 3"
    }
  },
  "cells": [
    {
      "cell_type": "markdown",
      "metadata": {
        "id": "view-in-github",
        "colab_type": "text"
      },
      "source": [
        "<a href=\"https://colab.research.google.com/github/SidharthArya/Deep_Learning_Class_Manit/blob/main/Assignments/002_Gates_Using_Perceptron_Model.ipynb\" target=\"_parent\"><img src=\"https://colab.research.google.com/assets/colab-badge.svg\" alt=\"Open In Colab\"/></a>"
      ]
    },
    {
      "cell_type": "markdown",
      "metadata": {
        "id": "Wzb_LHD8eWqN"
      },
      "source": [
        "# Perceptron Model\n",
        "Perceptron model has an accumulator "
      ]
    },
    {
      "cell_type": "code",
      "metadata": {
        "id": "AlcG3OXSgeW1"
      },
      "source": [
        "import numpy as np\n",
        "import matplotlib.pyplot as plt\n",
        "import tqdm"
      ],
      "execution_count": 393,
      "outputs": []
    },
    {
      "cell_type": "code",
      "metadata": {
        "id": "WcMJEtBEgt_n"
      },
      "source": [
        "# Transfer/Activation Functions\n",
        "def step(x):\n",
        "  return x >= 0"
      ],
      "execution_count": 394,
      "outputs": []
    },
    {
      "cell_type": "code",
      "metadata": {
        "id": "PbfTaQUhgNLo"
      },
      "source": [
        "class Perceptron:\n",
        "  def __init__(self,features=1, alpha=0.1, bias=None, weights=None, activation=step):\n",
        "    if weights is None:\n",
        "      self.weights=np.random.normal(loc=0.0, scale=0.01, size=features).transpose()\n",
        "    if bias is None:\n",
        "      self.bias=np.random.normal(loc=0.0,scale=0.01)\n",
        "    else: self.weights = weights \n",
        "    self.activation = activation\n",
        "    self.alpha = alpha\n",
        "    self.bias=bias\n",
        "    self.features = features\n",
        "\n",
        "  def __predict(self, inputn): # Private Function\n",
        "    # implement prediction of 1 instance\n",
        "      return self.activation(self.weights.dot(inputn.transpose()) + self.bias)\n",
        "  \n",
        "  def cost(self, inputn, outputn ):\n",
        "    # Implement the cost function\n",
        "    return self.__predict(inputn) - outputn\n",
        "  \n",
        "\n",
        "  def predict(self, inputs, from_train=False):\n",
        "      return self.activation(self.weights.dot(inputs.transpose()) + self.bias)\n",
        "  \n",
        "\n",
        "  def train(self, inputs, outputs, epochs=1):   \n",
        "    t = tqdm.tqdm(range(epochs))\n",
        "    for epoch in t:\n",
        "      for i, inputn in enumerate(inputs):\n",
        "        delta = self.__predict(inputn) - outputs[i]\n",
        "        t.set_postfix({\"loss\": delta})\n",
        "        #print(delta, inputn, outputs[i], self.weights, self.bias)\n",
        "        self.weight_update(delta, inputn)\n",
        "\n",
        "  \n",
        "  def weight_update(self, delta, inputs):\n",
        "      self.weights = self.weights - self.alpha*delta*(inputs)\n",
        "      self.bias = self.bias - self.alpha*delta\n",
        "      #print(self.weights, self.bias)\n"
      ],
      "execution_count": 419,
      "outputs": []
    },
    {
      "cell_type": "markdown",
      "metadata": {
        "id": "ierzEGp09t2z"
      },
      "source": [
        "## And Gate"
      ]
    },
    {
      "cell_type": "code",
      "metadata": {
        "id": "uKQVtAkRg0AW"
      },
      "source": [
        "perceptron=Perceptron(features=2) # Single Perceptron"
      ],
      "execution_count": 414,
      "outputs": []
    },
    {
      "cell_type": "code",
      "metadata": {
        "id": "K_3R9zjhpQ5v"
      },
      "source": [
        "# Input output for AND Gate\n",
        "X = np.array([[0,0],\n",
        "              [0,1],\n",
        "              [1,0],\n",
        "              [1,1]\n",
        "              ])\n",
        "Y = np.array([0,\n",
        "              0,\n",
        "              0,\n",
        "              1\n",
        "              ])"
      ],
      "execution_count": 415,
      "outputs": []
    },
    {
      "cell_type": "markdown",
      "metadata": {
        "id": "XxDe1cyA9BPb"
      },
      "source": [
        "### Before Training"
      ]
    },
    {
      "cell_type": "code",
      "metadata": {
        "colab": {
          "base_uri": "https://localhost:8080/",
          "height": 265
        },
        "id": "uWDQOK18prrE",
        "outputId": "2a949ae6-cbb3-4d90-d5ec-d546b3256b68"
      },
      "source": [
        "plt.scatter(X[:,0],X[:,1])\n",
        "bias=perceptron.bias\n",
        "weights=perceptron.weights\n",
        "pnt1 = -bias/weights[0]\n",
        "pnt2 = -bias/weights[1]\n",
        "point1 = [0,pnt1]\n",
        "point2 = [pnt2,0]\n",
        "plt.plot(point1,point2,'r-')\n",
        "plt.show()\n"
      ],
      "execution_count": 416,
      "outputs": [
        {
          "output_type": "display_data",
          "data": {
            "image/png": "[encoded data removed]",
            "text/plain": [
              "<Figure size 432x288 with 1 Axes>"
            ]
          },
          "metadata": {
            "tags": [],
            "needs_background": "light"
          }
        }
      ]
    },
    {
      "cell_type": "markdown",
      "metadata": {
        "id": "Pt8nQoMx-EX1"
      },
      "source": [
        "### Training"
      ]
    },
    {
      "cell_type": "code",
      "metadata": {
        "colab": {
          "base_uri": "https://localhost:8080/"
        },
        "id": "s7BZUaTCpvlJ",
        "outputId": "5200966a-2645-42b0-bf82-6842d767a730"
      },
      "source": [
        "perceptron.train(X,Y,epochs=20)"
      ],
      "execution_count": 417,
      "outputs": [
        {
          "output_type": "stream",
          "text": [
            "100%|██████████| 20/20 [00:00<00:00, 102.92it/s, loss=0]\n"
          ],
          "name": "stderr"
        }
      ]
    },
    {
      "cell_type": "markdown",
      "metadata": {
        "id": "mEDclz7y9ktV"
      },
      "source": [
        "### After Training"
      ]
    },
    {
      "cell_type": "code",
      "metadata": {
        "colab": {
          "base_uri": "https://localhost:8080/",
          "height": 265
        },
        "id": "x90gpFrqtMqV",
        "outputId": "f3bd49e4-47c5-46a6-9e61-f7418e79591e"
      },
      "source": [
        "plt.scatter(X[:,0],X[:,1])\n",
        "bias=perceptron.bias\n",
        "weights=perceptron.weights\n",
        "pnt1 = -bias/weights[0]\n",
        "pnt2 = -bias/weights[1]\n",
        "point1 = [0,pnt1]\n",
        "point2 = [pnt2,0]\n",
        "plt.plot(point1,point2,'r-')\n",
        "plt.show()\n"
      ],
      "execution_count": 400,
      "outputs": [
        {
          "output_type": "display_data",
          "data": {
            "image/png": "[encoded data removed]",
            "text/plain": [
              "<Figure size 432x288 with 1 Axes>"
            ]
          },
          "metadata": {
            "tags": [],
            "needs_background": "light"
          }
        }
      ]
    },
    {
      "cell_type": "code",
      "metadata": {
        "id": "FomwfvF_yR5U"
      },
      "source": [
        ""
      ],
      "execution_count": 400,
      "outputs": []
    },
    {
      "cell_type": "markdown",
      "metadata": {
        "id": "c_NyvaLj90tQ"
      },
      "source": [
        "## Or Gate"
      ]
    },
    {
      "cell_type": "code",
      "metadata": {
        "id": "gzgPtyRM-XKq"
      },
      "source": [
        "# Input output for AND Gate\n",
        "X = np.array([[0,0],\n",
        "              [0,1],\n",
        "              [1,0],\n",
        "              [1,1]\n",
        "              ])\n",
        "Y = np.array([1,\n",
        "              1,\n",
        "              1,\n",
        "              0\n",
        "              ])"
      ],
      "execution_count": 404,
      "outputs": []
    },
    {
      "cell_type": "code",
      "metadata": {
        "id": "92BKWY8E-Y9x"
      },
      "source": [
        "perceptron=Perceptron(features=2)"
      ],
      "execution_count": 402,
      "outputs": []
    },
    {
      "cell_type": "markdown",
      "metadata": {
        "id": "RHiFli-m-6z1"
      },
      "source": [
        "### Before Training\n"
      ]
    },
    {
      "cell_type": "code",
      "metadata": {
        "colab": {
          "base_uri": "https://localhost:8080/",
          "height": 265
        },
        "id": "OHrpEZVC_6Rk",
        "outputId": "e2ec12da-ee44-4066-8449-9a0b18d2ca72"
      },
      "source": [
        "plt.scatter(X[:,0],X[:,1])\n",
        "bias=perceptron.bias\n",
        "weights=perceptron.weights\n",
        "pnt1 = -bias/weights[0]\n",
        "pnt2 = -bias/weights[1]\n",
        "point1 = [0,pnt1]\n",
        "point2 = [pnt2,0]\n",
        "plt.plot(point1,point2,'r-')\n",
        "plt.show()\n"
      ],
      "execution_count": 403,
      "outputs": [
        {
          "output_type": "display_data",
          "data": {
            "image/png": "[encoded data removed]",
            "text/plain": [
              "<Figure size 432x288 with 1 Axes>"
            ]
          },
          "metadata": {
            "tags": [],
            "needs_background": "light"
          }
        }
      ]
    },
    {
      "cell_type": "markdown",
      "metadata": {
        "id": "_Z-bozUgAFhP"
      },
      "source": [
        "### Training"
      ]
    },
    {
      "cell_type": "code",
      "metadata": {
        "colab": {
          "base_uri": "https://localhost:8080/"
        },
        "id": "-qBQSkzx_9gF",
        "outputId": "7a1b231d-1deb-4aee-828f-3154066b0719"
      },
      "source": [
        "perceptron.train(X,Y)"
      ],
      "execution_count": 407,
      "outputs": [
        {
          "output_type": "stream",
          "text": [
            "100%|██████████| 1/1 [00:00<00:00, 578.05it/s]\n"
          ],
          "name": "stderr"
        }
      ]
    },
    {
      "cell_type": "markdown",
      "metadata": {
        "id": "36WLafp6AEyC"
      },
      "source": [
        "### After Training"
      ]
    },
    {
      "cell_type": "code",
      "metadata": {
        "colab": {
          "base_uri": "https://localhost:8080/",
          "height": 265
        },
        "id": "VYt9nBmlAJyi",
        "outputId": "dc925ad6-b1ec-4f15-f846-02a7fd9fd38b"
      },
      "source": [
        "plt.scatter(X[:,0],X[:,1])\n",
        "bias=perceptron.bias\n",
        "weights=perceptron.weights\n",
        "pnt1 = -bias/weights[0]\n",
        "pnt2 = -bias/weights[1]\n",
        "point1 = [0,pnt1]\n",
        "point2 = [pnt2,0]\n",
        "plt.plot(point1,point2,'r-')\n",
        "plt.show()\n"
      ],
      "execution_count": 408,
      "outputs": [
        {
          "output_type": "display_data",
          "data": {
            "image/png": "[encoded data removed]",
            "text/plain": [
              "<Figure size 432x288 with 1 Axes>"
            ]
          },
          "metadata": {
            "tags": [],
            "needs_background": "light"
          }
        }
      ]
    }
  ]
}