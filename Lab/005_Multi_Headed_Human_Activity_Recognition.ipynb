{
  "nbformat": 4,
  "nbformat_minor": 0,
  "metadata": {
    "colab": {
      "name": "005-Multi-Headed-Human-Activity-Recognition.ipynb",
      "provenance": [],
      "authorship_tag": "ABX9TyNvPZk9SZBZ6MyywrG0+DOb",
      "include_colab_link": true
    },
    "kernelspec": {
      "name": "python3",
      "display_name": "Python 3"
    }
  },
  "cells": [
    {
      "cell_type": "markdown",
      "metadata": {
        "id": "view-in-github",
        "colab_type": "text"
      },
      "source": [
        "<a href=\"https://colab.research.google.com/github/SidharthArya/Deep_Learning_Class_Manit/blob/main/Lab/005_Multi_Headed_Human_Activity_Recognition.ipynb\" target=\"_parent\"><img src=\"https://colab.research.google.com/assets/colab-badge.svg\" alt=\"Open In Colab\"/></a>"
      ]
    },
    {
      "cell_type": "code",
      "metadata": {
        "colab": {
          "base_uri": "https://localhost:8080/"
        },
        "id": "SWmeNY52b6fh",
        "outputId": "12d6db42-e562-42cc-8361-b8432c3e1d80"
      },
      "source": [
        "!pip install keras_multi_head"
      ],
      "execution_count": 2,
      "outputs": [
        {
          "output_type": "stream",
          "text": [
            "Collecting keras_multi_head\n",
            "  Downloading https://files.pythonhosted.org/packages/e6/32/45adf2549450aca7867deccfa04af80a0ab1ca139af44b16bc669e0e09cd/keras-multi-head-0.27.0.tar.gz\n",
            "Requirement already satisfied: numpy in /usr/local/lib/python3.6/dist-packages (from keras_multi_head) (1.19.5)\n",
            "Requirement already satisfied: Keras in /usr/local/lib/python3.6/dist-packages (from keras_multi_head) (2.4.3)\n",
            "Collecting keras-self-attention==0.46.0\n",
            "  Downloading https://files.pythonhosted.org/packages/15/6b/c804924a056955fa1f3ff767945187103cfc851ba9bd0fc5a6c6bc18e2eb/keras-self-attention-0.46.0.tar.gz\n",
            "Requirement already satisfied: h5py in /usr/local/lib/python3.6/dist-packages (from Keras->keras_multi_head) (2.10.0)\n",
            "Requirement already satisfied: scipy>=0.14 in /usr/local/lib/python3.6/dist-packages (from Keras->keras_multi_head) (1.4.1)\n",
            "Requirement already satisfied: pyyaml in /usr/local/lib/python3.6/dist-packages (from Keras->keras_multi_head) (3.13)\n",
            "Requirement already satisfied: six in /usr/local/lib/python3.6/dist-packages (from h5py->Keras->keras_multi_head) (1.15.0)\n",
            "Building wheels for collected packages: keras-multi-head, keras-self-attention\n",
            "  Building wheel for keras-multi-head (setup.py) ... \u001b[?25l\u001b[?25hdone\n",
            "  Created wheel for keras-multi-head: filename=keras_multi_head-0.27.0-cp36-none-any.whl size=15612 sha256=7473f642553eaf17c953dcae7d94d63a6c6c121b975fd213a2da6a20a0a4ad8f\n",
            "  Stored in directory: /root/.cache/pip/wheels/b5/b4/49/0a0c27dcb93c13af02fea254ff51d1a43a924dd4e5b7a7164d\n",
            "  Building wheel for keras-self-attention (setup.py) ... \u001b[?25l\u001b[?25hdone\n",
            "  Created wheel for keras-self-attention: filename=keras_self_attention-0.46.0-cp36-none-any.whl size=17278 sha256=e1f90d67a995eb016b0a7d389207ba2e33fe809f9739814376a341bd23a2adf0\n",
            "  Stored in directory: /root/.cache/pip/wheels/d2/2e/80/fec4c05eb23c8e13b790e26d207d6e0ffe8013fad8c6bdd4d2\n",
            "Successfully built keras-multi-head keras-self-attention\n",
            "Installing collected packages: keras-self-attention, keras-multi-head\n",
            "Successfully installed keras-multi-head-0.27.0 keras-self-attention-0.46.0\n"
          ],
          "name": "stdout"
        }
      ]
    },
    {
      "cell_type": "code",
      "metadata": {
        "id": "osiI3PoUecpw"
      },
      "source": [
        "import keras\n",
        "\n",
        "from keras_multi_head import MultiHead\n",
        "#@title Importing required packages\n",
        "import sys\n",
        "import os\n",
        "import re\n",
        "import pandas as pd\n",
        "import tensorflow as tf\n",
        "import numpy as np\n",
        "import seaborn as sns\n",
        "import matplotlib.pyplot as plt\n",
        "from sklearn.model_selection import train_test_split\n",
        "\n",
        "from tensorflow.keras import layers, Sequential, Input\n",
        "import datetime\n",
        "%load_ext tensorboard\n",
        "\n"
      ],
      "execution_count": 4,
      "outputs": []
    },
    {
      "cell_type": "code",
      "metadata": {
        "colab": {
          "base_uri": "https://localhost:8080/"
        },
        "id": "02PS68gMe8hr",
        "outputId": "06f462b5-28e4-47aa-feb1-62cd5e147434"
      },
      "source": [
        "#@title Fetching MHealth\n",
        "# MHEALTH\n",
        "! wget http://archive.ics.uci.edu/ml/machine-learning-databases/00319/MHEALTHDATASET.zip\n",
        "! unzip MHEALTHDATASET.zip"
      ],
      "execution_count": 5,
      "outputs": [
        {
          "output_type": "stream",
          "text": [
            "--2021-02-11 09:48:14--  http://archive.ics.uci.edu/ml/machine-learning-databases/00319/MHEALTHDATASET.zip\n",
            "Resolving archive.ics.uci.edu (archive.ics.uci.edu)... 128.195.10.252\n",
            "Connecting to archive.ics.uci.edu (archive.ics.uci.edu)|128.195.10.252|:80... connected.\n",
            "HTTP request sent, awaiting response... 200 OK\n",
            "Length: 75567983 (72M) [application/x-httpd-php]\n",
            "Saving to: ‘MHEALTHDATASET.zip’\n",
            "\n",
            "MHEALTHDATASET.zip  100%[===================>]  72.07M  17.2MB/s    in 4.2s    \n",
            "\n",
            "2021-02-11 09:48:19 (17.2 MB/s) - ‘MHEALTHDATASET.zip’ saved [75567983/75567983]\n",
            "\n",
            "Archive:  MHEALTHDATASET.zip\n",
            "   creating: MHEALTHDATASET/\n",
            "  inflating: MHEALTHDATASET/mHealth_subject1.log  \n",
            "  inflating: MHEALTHDATASET/mHealth_subject10.log  \n",
            "  inflating: MHEALTHDATASET/mHealth_subject2.log  \n",
            "  inflating: MHEALTHDATASET/mHealth_subject3.log  \n",
            "  inflating: MHEALTHDATASET/mHealth_subject4.log  \n",
            "  inflating: MHEALTHDATASET/mHealth_subject5.log  \n",
            "  inflating: MHEALTHDATASET/mHealth_subject6.log  \n",
            "  inflating: MHEALTHDATASET/mHealth_subject7.log  \n",
            "  inflating: MHEALTHDATASET/mHealth_subject8.log  \n",
            "  inflating: MHEALTHDATASET/mHealth_subject9.log  \n",
            "  inflating: MHEALTHDATASET/README.txt  \n"
          ],
          "name": "stdout"
        }
      ]
    },
    {
      "cell_type": "code",
      "metadata": {
        "colab": {
          "base_uri": "https://localhost:8080/",
          "height": 195
        },
        "id": "frF4UHZbffB5",
        "outputId": "0e1ba878-e085-49ad-a0c5-d89183c87979"
      },
      "source": [
        "#@title Converting one subject to DataFrame\n",
        "mHealth = pd.read_csv('MHEALTHDATASET/mHealth_subject3.log', header=None, sep='\\t').loc[:, [5,6,7,8,9,10,14,15,16,17,18,19, 23]].rename(columns={5:\"alX\", 6:\"alY\", 7:\"alZ\", 8:\"glX\", 9:\"glY\", 10:\"glZ\", 14:\"arX\",15:\"arY\", 16:\"arZ\", 17:\"grX\", 18:\"grY\", 19:\"grZ\", 23:\"Output\"})\n",
        "mHealth.head(5)"
      ],
      "execution_count": 6,
      "outputs": [
        {
          "output_type": "execute_result",
          "data": {
            "text/html": [
              "<div>\n",
              "<style scoped>\n",
              "    .dataframe tbody tr th:only-of-type {\n",
              "        vertical-align: middle;\n",
              "    }\n",
              "\n",
              "    .dataframe tbody tr th {\n",
              "        vertical-align: top;\n",
              "    }\n",
              "\n",
              "    .dataframe thead th {\n",
              "        text-align: right;\n",
              "    }\n",
              "</style>\n",
              "<table border=\"1\" class=\"dataframe\">\n",
              "  <thead>\n",
              "    <tr style=\"text-align: right;\">\n",
              "      <th></th>\n",
              "      <th>alX</th>\n",
              "      <th>alY</th>\n",
              "      <th>alZ</th>\n",
              "      <th>glX</th>\n",
              "      <th>glY</th>\n",
              "      <th>glZ</th>\n",
              "      <th>arX</th>\n",
              "      <th>arY</th>\n",
              "      <th>arZ</th>\n",
              "      <th>grX</th>\n",
              "      <th>grY</th>\n",
              "      <th>grZ</th>\n",
              "      <th>Output</th>\n",
              "    </tr>\n",
              "  </thead>\n",
              "  <tbody>\n",
              "    <tr>\n",
              "      <th>0</th>\n",
              "      <td>-0.18848</td>\n",
              "      <td>-9.8425</td>\n",
              "      <td>0.90183</td>\n",
              "      <td>0.55659</td>\n",
              "      <td>-0.83490</td>\n",
              "      <td>0.062868</td>\n",
              "      <td>-9.0897</td>\n",
              "      <td>2.0431</td>\n",
              "      <td>1.3105</td>\n",
              "      <td>-0.75490</td>\n",
              "      <td>-0.22998</td>\n",
              "      <td>0.78233</td>\n",
              "      <td>0</td>\n",
              "    </tr>\n",
              "    <tr>\n",
              "      <th>1</th>\n",
              "      <td>-0.36263</td>\n",
              "      <td>-9.7832</td>\n",
              "      <td>0.89263</td>\n",
              "      <td>0.55659</td>\n",
              "      <td>-0.83490</td>\n",
              "      <td>0.062868</td>\n",
              "      <td>-9.6010</td>\n",
              "      <td>1.8242</td>\n",
              "      <td>1.4245</td>\n",
              "      <td>-0.75490</td>\n",
              "      <td>-0.22998</td>\n",
              "      <td>0.78233</td>\n",
              "      <td>0</td>\n",
              "    </tr>\n",
              "    <tr>\n",
              "      <th>2</th>\n",
              "      <td>-0.24823</td>\n",
              "      <td>-9.8010</td>\n",
              "      <td>1.09080</td>\n",
              "      <td>0.57885</td>\n",
              "      <td>-0.84615</td>\n",
              "      <td>0.055010</td>\n",
              "      <td>-8.7446</td>\n",
              "      <td>2.4401</td>\n",
              "      <td>1.0074</td>\n",
              "      <td>-0.75490</td>\n",
              "      <td>-0.22998</td>\n",
              "      <td>0.78233</td>\n",
              "      <td>0</td>\n",
              "    </tr>\n",
              "    <tr>\n",
              "      <th>3</th>\n",
              "      <td>-0.25027</td>\n",
              "      <td>-9.6730</td>\n",
              "      <td>1.01380</td>\n",
              "      <td>0.57885</td>\n",
              "      <td>-0.84615</td>\n",
              "      <td>0.055010</td>\n",
              "      <td>-9.8947</td>\n",
              "      <td>1.9019</td>\n",
              "      <td>1.1888</td>\n",
              "      <td>-0.75490</td>\n",
              "      <td>-0.22998</td>\n",
              "      <td>0.78233</td>\n",
              "      <td>0</td>\n",
              "    </tr>\n",
              "    <tr>\n",
              "      <th>4</th>\n",
              "      <td>-0.20668</td>\n",
              "      <td>-9.9102</td>\n",
              "      <td>1.05450</td>\n",
              "      <td>0.57885</td>\n",
              "      <td>-0.84615</td>\n",
              "      <td>0.055010</td>\n",
              "      <td>-9.6522</td>\n",
              "      <td>2.0140</td>\n",
              "      <td>1.4028</td>\n",
              "      <td>-0.75294</td>\n",
              "      <td>-0.22998</td>\n",
              "      <td>0.76293</td>\n",
              "      <td>0</td>\n",
              "    </tr>\n",
              "  </tbody>\n",
              "</table>\n",
              "</div>"
            ],
            "text/plain": [
              "       alX     alY      alZ      glX  ...      grX      grY      grZ  Output\n",
              "0 -0.18848 -9.8425  0.90183  0.55659  ... -0.75490 -0.22998  0.78233       0\n",
              "1 -0.36263 -9.7832  0.89263  0.55659  ... -0.75490 -0.22998  0.78233       0\n",
              "2 -0.24823 -9.8010  1.09080  0.57885  ... -0.75490 -0.22998  0.78233       0\n",
              "3 -0.25027 -9.6730  1.01380  0.57885  ... -0.75490 -0.22998  0.78233       0\n",
              "4 -0.20668 -9.9102  1.05450  0.57885  ... -0.75294 -0.22998  0.76293       0\n",
              "\n",
              "[5 rows x 13 columns]"
            ]
          },
          "metadata": {
            "tags": []
          },
          "execution_count": 6
        }
      ]
    },
    {
      "cell_type": "code",
      "metadata": {
        "colab": {
          "base_uri": "https://localhost:8080/",
          "height": 432
        },
        "id": "opaqbx6Cf1Sf",
        "outputId": "39de46f3-18b4-4d95-9ce0-e29fa1d68fb1"
      },
      "source": [
        "#@title Describe MHealth for all\n",
        "all = mHealth[mHealth[\"Output\"] == 14].copy()\n",
        "\n",
        "for i in os.listdir('MHEALTHDATASET/'):\n",
        "  if not re.search('README', i):\n",
        "    all = all.append(pd.read_csv('MHEALTHDATASET/'+i, header=None, sep='\\t').loc[:, [5,6,7,8,9,10,14,15,16,17,18,19, 23]].rename(columns={5:\"alX\", 6:\"alY\", 7:\"alZ\", 8:\"glX\", 9:\"glY\", 10:\"glZ\", 14:\"arX\",15:\"arY\", 16:\"arZ\", 17:\"grX\", 18:\"grY\", 19:\"grZ\", 23:\"Output\"}))\n",
        "\n",
        "\n",
        "description = all.describe()\n",
        "\n",
        "description.T"
      ],
      "execution_count": 7,
      "outputs": [
        {
          "output_type": "execute_result",
          "data": {
            "text/html": [
              "<div>\n",
              "<style scoped>\n",
              "    .dataframe tbody tr th:only-of-type {\n",
              "        vertical-align: middle;\n",
              "    }\n",
              "\n",
              "    .dataframe tbody tr th {\n",
              "        vertical-align: top;\n",
              "    }\n",
              "\n",
              "    .dataframe thead th {\n",
              "        text-align: right;\n",
              "    }\n",
              "</style>\n",
              "<table border=\"1\" class=\"dataframe\">\n",
              "  <thead>\n",
              "    <tr style=\"text-align: right;\">\n",
              "      <th></th>\n",
              "      <th>count</th>\n",
              "      <th>mean</th>\n",
              "      <th>std</th>\n",
              "      <th>min</th>\n",
              "      <th>25%</th>\n",
              "      <th>50%</th>\n",
              "      <th>75%</th>\n",
              "      <th>max</th>\n",
              "    </tr>\n",
              "  </thead>\n",
              "  <tbody>\n",
              "    <tr>\n",
              "      <th>alX</th>\n",
              "      <td>1215745.0</td>\n",
              "      <td>1.494200</td>\n",
              "      <td>3.826485</td>\n",
              "      <td>-22.1460</td>\n",
              "      <td>0.14131</td>\n",
              "      <td>1.308900</td>\n",
              "      <td>2.575800</td>\n",
              "      <td>20.0540</td>\n",
              "    </tr>\n",
              "    <tr>\n",
              "      <th>alY</th>\n",
              "      <td>1215745.0</td>\n",
              "      <td>-9.692878</td>\n",
              "      <td>4.171303</td>\n",
              "      <td>-19.6190</td>\n",
              "      <td>-10.20100</td>\n",
              "      <td>-9.670300</td>\n",
              "      <td>-9.042200</td>\n",
              "      <td>21.1610</td>\n",
              "    </tr>\n",
              "    <tr>\n",
              "      <th>alZ</th>\n",
              "      <td>1215745.0</td>\n",
              "      <td>-0.954806</td>\n",
              "      <td>5.461803</td>\n",
              "      <td>-19.3730</td>\n",
              "      <td>-2.64940</td>\n",
              "      <td>-0.016456</td>\n",
              "      <td>1.301300</td>\n",
              "      <td>25.0150</td>\n",
              "    </tr>\n",
              "    <tr>\n",
              "      <th>glX</th>\n",
              "      <td>1215745.0</td>\n",
              "      <td>-0.001599</td>\n",
              "      <td>0.491217</td>\n",
              "      <td>-2.1466</td>\n",
              "      <td>-0.43599</td>\n",
              "      <td>-0.014842</td>\n",
              "      <td>0.448980</td>\n",
              "      <td>60.4840</td>\n",
              "    </tr>\n",
              "    <tr>\n",
              "      <th>glY</th>\n",
              "      <td>1215745.0</td>\n",
              "      <td>-0.616632</td>\n",
              "      <td>0.354641</td>\n",
              "      <td>-7.7899</td>\n",
              "      <td>-0.81801</td>\n",
              "      <td>-0.707320</td>\n",
              "      <td>-0.540340</td>\n",
              "      <td>2.0113</td>\n",
              "    </tr>\n",
              "    <tr>\n",
              "      <th>glZ</th>\n",
              "      <td>1215745.0</td>\n",
              "      <td>-0.158781</td>\n",
              "      <td>0.546798</td>\n",
              "      <td>-2.6267</td>\n",
              "      <td>-0.59332</td>\n",
              "      <td>-0.190570</td>\n",
              "      <td>0.322200</td>\n",
              "      <td>2.7701</td>\n",
              "    </tr>\n",
              "    <tr>\n",
              "      <th>arX</th>\n",
              "      <td>1215745.0</td>\n",
              "      <td>-3.713413</td>\n",
              "      <td>4.763586</td>\n",
              "      <td>-22.3610</td>\n",
              "      <td>-6.07600</td>\n",
              "      <td>-2.977600</td>\n",
              "      <td>-1.193700</td>\n",
              "      <td>19.8640</td>\n",
              "    </tr>\n",
              "    <tr>\n",
              "      <th>arY</th>\n",
              "      <td>1215745.0</td>\n",
              "      <td>-5.805526</td>\n",
              "      <td>5.757639</td>\n",
              "      <td>-18.9720</td>\n",
              "      <td>-9.40420</td>\n",
              "      <td>-7.461500</td>\n",
              "      <td>-2.533900</td>\n",
              "      <td>22.1910</td>\n",
              "    </tr>\n",
              "    <tr>\n",
              "      <th>arZ</th>\n",
              "      <td>1215745.0</td>\n",
              "      <td>2.393880</td>\n",
              "      <td>3.876503</td>\n",
              "      <td>-18.2390</td>\n",
              "      <td>0.12965</td>\n",
              "      <td>1.928100</td>\n",
              "      <td>4.914700</td>\n",
              "      <td>25.7410</td>\n",
              "    </tr>\n",
              "    <tr>\n",
              "      <th>grX</th>\n",
              "      <td>1215745.0</td>\n",
              "      <td>-0.276106</td>\n",
              "      <td>0.527689</td>\n",
              "      <td>-8.3392</td>\n",
              "      <td>-0.70588</td>\n",
              "      <td>-0.354900</td>\n",
              "      <td>0.096078</td>\n",
              "      <td>3.3196</td>\n",
              "    </tr>\n",
              "    <tr>\n",
              "      <th>grY</th>\n",
              "      <td>1215745.0</td>\n",
              "      <td>-0.466434</td>\n",
              "      <td>0.555551</td>\n",
              "      <td>-3.5708</td>\n",
              "      <td>-0.89733</td>\n",
              "      <td>-0.634500</td>\n",
              "      <td>-0.106780</td>\n",
              "      <td>1.5565</td>\n",
              "    </tr>\n",
              "    <tr>\n",
              "      <th>grZ</th>\n",
              "      <td>1215745.0</td>\n",
              "      <td>0.266633</td>\n",
              "      <td>0.564380</td>\n",
              "      <td>-2.6897</td>\n",
              "      <td>-0.23707</td>\n",
              "      <td>0.301720</td>\n",
              "      <td>0.778020</td>\n",
              "      <td>2.7500</td>\n",
              "    </tr>\n",
              "    <tr>\n",
              "      <th>Output</th>\n",
              "      <td>1215745.0</td>\n",
              "      <td>1.741465</td>\n",
              "      <td>3.283679</td>\n",
              "      <td>0.0000</td>\n",
              "      <td>0.00000</td>\n",
              "      <td>0.000000</td>\n",
              "      <td>2.000000</td>\n",
              "      <td>12.0000</td>\n",
              "    </tr>\n",
              "  </tbody>\n",
              "</table>\n",
              "</div>"
            ],
            "text/plain": [
              "            count      mean       std  ...       50%       75%      max\n",
              "alX     1215745.0  1.494200  3.826485  ...  1.308900  2.575800  20.0540\n",
              "alY     1215745.0 -9.692878  4.171303  ... -9.670300 -9.042200  21.1610\n",
              "alZ     1215745.0 -0.954806  5.461803  ... -0.016456  1.301300  25.0150\n",
              "glX     1215745.0 -0.001599  0.491217  ... -0.014842  0.448980  60.4840\n",
              "glY     1215745.0 -0.616632  0.354641  ... -0.707320 -0.540340   2.0113\n",
              "glZ     1215745.0 -0.158781  0.546798  ... -0.190570  0.322200   2.7701\n",
              "arX     1215745.0 -3.713413  4.763586  ... -2.977600 -1.193700  19.8640\n",
              "arY     1215745.0 -5.805526  5.757639  ... -7.461500 -2.533900  22.1910\n",
              "arZ     1215745.0  2.393880  3.876503  ...  1.928100  4.914700  25.7410\n",
              "grX     1215745.0 -0.276106  0.527689  ... -0.354900  0.096078   3.3196\n",
              "grY     1215745.0 -0.466434  0.555551  ... -0.634500 -0.106780   1.5565\n",
              "grZ     1215745.0  0.266633  0.564380  ...  0.301720  0.778020   2.7500\n",
              "Output  1215745.0  1.741465  3.283679  ...  0.000000  2.000000  12.0000\n",
              "\n",
              "[13 rows x 8 columns]"
            ]
          },
          "metadata": {
            "tags": []
          },
          "execution_count": 7
        }
      ]
    },
    {
      "cell_type": "code",
      "metadata": {
        "colab": {
          "base_uri": "https://localhost:8080/"
        },
        "id": "jcfbJYsQf2JK",
        "outputId": "6a2e0360-f2b0-4976-ea57-7100cb074415"
      },
      "source": [
        "#@title Size of dataset for various subjects\n",
        "for i in os.listdir('MHEALTHDATASET/'):\n",
        "  if not re.search('README', i):\n",
        "    print(pd.read_csv('MHEALTHDATASET/'+i, header=None, sep='\\t').loc[:, [5,6,7,8,9,10,14,15,16,17,18,19, 23]].rename(columns={5:\"alX\", 6:\"alY\", 7:\"alZ\", 8:\"glX\", 9:\"glY\", 10:\"glZ\", 14:\"arX\",15:\"arY\", 16:\"arZ\", 17:\"grX\", 18:\"grY\", 19:\"grZ\", 23:\"Output\"}).shape)\n"
      ],
      "execution_count": 8,
      "outputs": [
        {
          "output_type": "stream",
          "text": [
            "(119808, 13)\n",
            "(98304, 13)\n",
            "(98304, 13)\n",
            "(116736, 13)\n",
            "(135168, 13)\n",
            "(104448, 13)\n",
            "(161280, 13)\n",
            "(130561, 13)\n",
            "(122112, 13)\n",
            "(129024, 13)\n"
          ],
          "name": "stdout"
        }
      ]
    },
    {
      "cell_type": "code",
      "metadata": {
        "colab": {
          "base_uri": "https://localhost:8080/"
        },
        "id": "87S7dLJ3f9Dr",
        "outputId": "632434f0-ea7d-4182-ff3a-1c4ddfea2da0"
      },
      "source": [
        "#@title Importing and preprocessing dataset\n",
        "SAMPLES_PER_ACTIVITY=50  #@param { \"type\": \"integer\" }\n",
        "\n",
        "Activities = [\n",
        "    \"Nothing\",\n",
        "    \"Standing\",\n",
        "    \"Sitting and Relaxing\",\n",
        "    \"Lying Down\",\n",
        "    \"Walking\",\n",
        "    \"Climbing Stairs\",\n",
        "    \"Waist bends forward\",\n",
        "    \"Frontal Elevation of Arms\",\n",
        "    \"Knees Bending (Crouching)\",\n",
        "    \"Cycling\",\n",
        "    \"Jogging\",\n",
        "    \"Running\",\n",
        "    \"Jump Front & Back\"\n",
        "    ]\n",
        "\n",
        "\n",
        "NUM_ACTIVITY=len(Activities)\n",
        "X = []\n",
        "Y = []\n",
        "\n",
        "FEATURES=[\"alX\", \"alY\", \"alZ\", \"glX\", \"glY\", \"glZ\", \"arX\", \"arY\", \"arZ\", \"grX\", \"grY\", \"grZ\"]\n",
        "ONE_HOT_ENCODED_ACTIVITY = np.eye(NUM_ACTIVITY)\n",
        "for i in os.listdir('MHEALTHDATASET/'):\n",
        "  if not re.search('README', i):\n",
        "    temp = pd.read_csv('MHEALTHDATASET/'+i, header=None, sep='\\t').loc[:, [5,6,7,8,9,10,14,15,16,17,18,19, 23]].rename(columns={5:\"alX\", 6:\"alY\", 7:\"alZ\", 8:\"glX\", 9:\"glY\", 10:\"glZ\", 14:\"arX\",15:\"arY\", 16:\"arZ\", 17:\"grX\", 18:\"grY\", 19:\"grZ\", 23:\"Output\"})\n",
        "    for j in range(NUM_ACTIVITY):\n",
        "        output = ONE_HOT_ENCODED_ACTIVITY[j]\n",
        "\n",
        "        if j == 0: continue\n",
        "        df =np.array(temp[temp[\"Output\"] == j].copy())\n",
        "        num_recordings = int(df.shape[0]/SAMPLES_PER_ACTIVITY)\n",
        "        print(f\"\\tThere are {num_recordings} recordings of the {Activities[j]} activity.\")\n",
        "        for k in range(num_recordings):\n",
        "          tensor = []\n",
        "          for l in range(SAMPLES_PER_ACTIVITY):\n",
        "            index = k * SAMPLES_PER_ACTIVITY + l\n",
        "\n",
        "            tensori = []\n",
        "            for m,feature in enumerate(FEATURES):\n",
        "              tensori.append(df[index,m] + (description[feature][\"mean\"]+3*description[feature][\"std\"]) / (3*description[feature][\"std\"]))\n",
        "            \n",
        "            tensor.append(tensori)\n",
        "          X.append(tensor)\n",
        "          Y.append(output)\n",
        "\n",
        "X = np.array(X)\n",
        "Y = np.array(Y)\n",
        "\n",
        "\n",
        "print(\"Data set parsing and preparation complete.\")\n",
        "\n"
      ],
      "execution_count": 9,
      "outputs": [
        {
          "output_type": "stream",
          "text": [
            "\tThere are 61 recordings of the Standing activity.\n",
            "\tThere are 61 recordings of the Sitting and Relaxing activity.\n",
            "\tThere are 61 recordings of the Lying Down activity.\n",
            "\tThere are 61 recordings of the Walking activity.\n",
            "\tThere are 61 recordings of the Climbing Stairs activity.\n",
            "\tThere are 55 recordings of the Waist bends forward activity.\n",
            "\tThere are 57 recordings of the Frontal Elevation of Arms activity.\n",
            "\tThere are 54 recordings of the Knees Bending (Crouching) activity.\n",
            "\tThere are 61 recordings of the Cycling activity.\n",
            "\tThere are 61 recordings of the Jogging activity.\n",
            "\tThere are 61 recordings of the Running activity.\n",
            "\tThere are 20 recordings of the Jump Front & Back activity.\n",
            "\tThere are 61 recordings of the Standing activity.\n",
            "\tThere are 61 recordings of the Sitting and Relaxing activity.\n",
            "\tThere are 61 recordings of the Lying Down activity.\n",
            "\tThere are 61 recordings of the Walking activity.\n",
            "\tThere are 61 recordings of the Climbing Stairs activity.\n",
            "\tThere are 44 recordings of the Waist bends forward activity.\n",
            "\tThere are 41 recordings of the Frontal Elevation of Arms activity.\n",
            "\tThere are 46 recordings of the Knees Bending (Crouching) activity.\n",
            "\tThere are 61 recordings of the Cycling activity.\n",
            "\tThere are 61 recordings of the Jogging activity.\n",
            "\tThere are 61 recordings of the Running activity.\n",
            "\tThere are 20 recordings of the Jump Front & Back activity.\n",
            "\tThere are 61 recordings of the Standing activity.\n",
            "\tThere are 61 recordings of the Sitting and Relaxing activity.\n",
            "\tThere are 61 recordings of the Lying Down activity.\n",
            "\tThere are 61 recordings of the Walking activity.\n",
            "\tThere are 61 recordings of the Climbing Stairs activity.\n",
            "\tThere are 49 recordings of the Waist bends forward activity.\n",
            "\tThere are 55 recordings of the Frontal Elevation of Arms activity.\n",
            "\tThere are 57 recordings of the Knees Bending (Crouching) activity.\n",
            "\tThere are 61 recordings of the Cycling activity.\n",
            "\tThere are 61 recordings of the Jogging activity.\n",
            "\tThere are 61 recordings of the Running activity.\n",
            "\tThere are 20 recordings of the Jump Front & Back activity.\n",
            "\tThere are 61 recordings of the Standing activity.\n",
            "\tThere are 61 recordings of the Sitting and Relaxing activity.\n",
            "\tThere are 61 recordings of the Lying Down activity.\n",
            "\tThere are 61 recordings of the Walking activity.\n",
            "\tThere are 61 recordings of the Climbing Stairs activity.\n",
            "\tThere are 66 recordings of the Waist bends forward activity.\n",
            "\tThere are 65 recordings of the Frontal Elevation of Arms activity.\n",
            "\tThere are 62 recordings of the Knees Bending (Crouching) activity.\n",
            "\tThere are 61 recordings of the Cycling activity.\n",
            "\tThere are 61 recordings of the Jogging activity.\n",
            "\tThere are 61 recordings of the Running activity.\n",
            "\tThere are 20 recordings of the Jump Front & Back activity.\n",
            "\tThere are 61 recordings of the Standing activity.\n",
            "\tThere are 61 recordings of the Sitting and Relaxing activity.\n",
            "\tThere are 61 recordings of the Lying Down activity.\n",
            "\tThere are 61 recordings of the Walking activity.\n",
            "\tThere are 61 recordings of the Climbing Stairs activity.\n",
            "\tThere are 57 recordings of the Waist bends forward activity.\n",
            "\tThere are 57 recordings of the Frontal Elevation of Arms activity.\n",
            "\tThere are 59 recordings of the Knees Bending (Crouching) activity.\n",
            "\tThere are 61 recordings of the Cycling activity.\n",
            "\tThere are 61 recordings of the Jogging activity.\n",
            "\tThere are 61 recordings of the Running activity.\n",
            "\tThere are 21 recordings of the Jump Front & Back activity.\n",
            "\tThere are 61 recordings of the Standing activity.\n",
            "\tThere are 61 recordings of the Sitting and Relaxing activity.\n",
            "\tThere are 61 recordings of the Lying Down activity.\n",
            "\tThere are 61 recordings of the Walking activity.\n",
            "\tThere are 61 recordings of the Climbing Stairs activity.\n",
            "\tThere are 61 recordings of the Waist bends forward activity.\n",
            "\tThere are 55 recordings of the Frontal Elevation of Arms activity.\n",
            "\tThere are 56 recordings of the Knees Bending (Crouching) activity.\n",
            "\tThere are 61 recordings of the Cycling activity.\n",
            "\tThere are 61 recordings of the Jogging activity.\n",
            "\tThere are 61 recordings of the Running activity.\n",
            "\tThere are 20 recordings of the Jump Front & Back activity.\n",
            "\tThere are 61 recordings of the Standing activity.\n",
            "\tThere are 61 recordings of the Sitting and Relaxing activity.\n",
            "\tThere are 61 recordings of the Lying Down activity.\n",
            "\tThere are 61 recordings of the Walking activity.\n",
            "\tThere are 61 recordings of the Climbing Stairs activity.\n",
            "\tThere are 61 recordings of the Waist bends forward activity.\n",
            "\tThere are 61 recordings of the Frontal Elevation of Arms activity.\n",
            "\tThere are 67 recordings of the Knees Bending (Crouching) activity.\n",
            "\tThere are 61 recordings of the Cycling activity.\n",
            "\tThere are 61 recordings of the Jogging activity.\n",
            "\tThere are 61 recordings of the Running activity.\n",
            "\tThere are 21 recordings of the Jump Front & Back activity.\n",
            "\tThere are 61 recordings of the Standing activity.\n",
            "\tThere are 61 recordings of the Sitting and Relaxing activity.\n",
            "\tThere are 61 recordings of the Lying Down activity.\n",
            "\tThere are 61 recordings of the Walking activity.\n",
            "\tThere are 61 recordings of the Climbing Stairs activity.\n",
            "\tThere are 63 recordings of the Waist bends forward activity.\n",
            "\tThere are 66 recordings of the Frontal Elevation of Arms activity.\n",
            "\tThere are 68 recordings of the Knees Bending (Crouching) activity.\n",
            "\tThere are 61 recordings of the Cycling activity.\n",
            "\tThere are 61 recordings of the Jogging activity.\n",
            "\tThere are 61 recordings of the Running activity.\n",
            "\tThere are 20 recordings of the Jump Front & Back activity.\n",
            "\tThere are 61 recordings of the Standing activity.\n",
            "\tThere are 61 recordings of the Sitting and Relaxing activity.\n",
            "\tThere are 61 recordings of the Lying Down activity.\n",
            "\tThere are 61 recordings of the Walking activity.\n",
            "\tThere are 61 recordings of the Climbing Stairs activity.\n",
            "\tThere are 64 recordings of the Waist bends forward activity.\n",
            "\tThere are 67 recordings of the Frontal Elevation of Arms activity.\n",
            "\tThere are 63 recordings of the Knees Bending (Crouching) activity.\n",
            "\tThere are 61 recordings of the Cycling activity.\n",
            "\tThere are 61 recordings of the Jogging activity.\n",
            "\tThere are 61 recordings of the Running activity.\n",
            "\tThere are 20 recordings of the Jump Front & Back activity.\n",
            "\tThere are 61 recordings of the Standing activity.\n",
            "\tThere are 61 recordings of the Sitting and Relaxing activity.\n",
            "\tThere are 61 recordings of the Lying Down activity.\n",
            "\tThere are 61 recordings of the Walking activity.\n",
            "\tThere are 61 recordings of the Climbing Stairs activity.\n",
            "\tThere are 43 recordings of the Waist bends forward activity.\n",
            "\tThere are 60 recordings of the Frontal Elevation of Arms activity.\n",
            "\tThere are 51 recordings of the Knees Bending (Crouching) activity.\n",
            "\tThere are 61 recordings of the Cycling activity.\n",
            "\tThere are 61 recordings of the Jogging activity.\n",
            "\tThere are 61 recordings of the Running activity.\n",
            "\tThere are 20 recordings of the Jump Front & Back activity.\n",
            "Data set parsing and preparation complete.\n"
          ],
          "name": "stdout"
        }
      ]
    },
    {
      "cell_type": "code",
      "metadata": {
        "id": "btuUjs_JgGWu"
      },
      "source": [
        "X_train, X_test, Y_train, Y_test = train_test_split(X,Y)"
      ],
      "execution_count": 10,
      "outputs": []
    },
    {
      "cell_type": "code",
      "metadata": {
        "id": "KZEA9VySgSTZ"
      },
      "source": [
        "def make_head_models(c1s, c2s, d1=0.2, p1=2):\n",
        "\n",
        "  return Sequential(\n",
        "    [\n",
        "\n",
        "     Input(shape=input_shape),\n",
        "     layers.Conv1D(filters=64, kernel_size=c1s, activation='relu'), \n",
        "     layers.Conv1D(filters=32, kernel_size=c2s, activation='relu'), \n",
        "     layers.Dropout(d1),\n",
        "     layers.MaxPool1D(pool_size=p1),\n",
        "     layers.Reshape((-1, 1)),\n",
        "     layers.GRU(16),\n",
        "     layers.Reshape((-1, 1)),\n",
        "     layers.GRU(8),\n",
        "     layers.Reshape((-1, 1)),\n",
        "     layers.GRU(8),\n",
        "\n",
        "     layers.Dropout(0.2),\n",
        "    ]\n",
        "\n",
        ")"
      ],
      "execution_count": 24,
      "outputs": []
    },
    {
      "cell_type": "code",
      "metadata": {
        "id": "qBePSsoSkEss"
      },
      "source": [
        "input_shape=X.shape[1:]"
      ],
      "execution_count": 16,
      "outputs": []
    },
    {
      "cell_type": "code",
      "metadata": {
        "id": "HBqE9Bmdh6mO"
      },
      "source": [
        "H1=make_head_models(3, 3)\n",
        "\n",
        "H2=make_head_models(7, 7)\n",
        "\n",
        "H3=make_head_models(11, 11)"
      ],
      "execution_count": 25,
      "outputs": []
    },
    {
      "cell_type": "code",
      "metadata": {
        "id": "-Ent-rYcjiXS"
      },
      "source": [
        "model = Sequential([\n",
        "                  Input(shape=input_shape),\n",
        "                  MultiHead([\n",
        "                    H1, H2, H3,\n",
        "\n",
        "                  ], name=\"Multiheads\"),\n",
        "\n",
        "                  layers.Dense(128, activation=\"relu\"),\n",
        "\n",
        "                  layers.BatchNormalization(),\n",
        "                  layers.Dense(13, activation=\"softmax\"),\n",
        "\n",
        "\n",
        "])"
      ],
      "execution_count": 27,
      "outputs": []
    },
    {
      "cell_type": "code",
      "metadata": {
        "id": "9vwDvshEm_B2"
      },
      "source": [
        "#@title Compiling Model\n",
        "optimizer='adam' #@param ['adam', 'sgd']\n",
        "loss='mse' #@param ['categorical_crossentropy']\n",
        "model.compile(optimizer=optimizer,\n",
        "              loss=loss,\n",
        "              metrics=['accuracy'])"
      ],
      "execution_count": 36,
      "outputs": []
    },
    {
      "cell_type": "code",
      "metadata": {
        "id": "zxde8gwmnHW3"
      },
      "source": [
        "#@title For tensorboard\n",
        "\n",
        "log_dir = \"logs/fit/\" + datetime.datetime.now().strftime(\"%Y%m%d-%H%M%S\")\n",
        "tensorboard_callback = tf.keras.callbacks.TensorBoard(log_dir=log_dir, histogram_freq=1)\n"
      ],
      "execution_count": 30,
      "outputs": []
    },
    {
      "cell_type": "code",
      "metadata": {
        "colab": {
          "base_uri": "https://localhost:8080/"
        },
        "id": "cSeOMyXVnfRo",
        "outputId": "84f279ac-2f58-44e2-a777-2a3c2e37f4ba"
      },
      "source": [
        "model.summary()"
      ],
      "execution_count": 35,
      "outputs": [
        {
          "output_type": "stream",
          "text": [
            "Model: \"sequential_11\"\n",
            "_________________________________________________________________\n",
            "Layer (type)                 Output Shape              Param #   \n",
            "=================================================================\n",
            "Multiheads (MultiHead)       (None, 8, 3)              63744     \n",
            "_________________________________________________________________\n",
            "dense_8 (Dense)              (None, 8, 128)            512       \n",
            "_________________________________________________________________\n",
            "batch_normalization_4 (Batch (None, 8, 128)            512       \n",
            "_________________________________________________________________\n",
            "dense_9 (Dense)              (None, 8, 13)             1677      \n",
            "=================================================================\n",
            "Total params: 66,445\n",
            "Trainable params: 66,189\n",
            "Non-trainable params: 256\n",
            "_________________________________________________________________\n"
          ],
          "name": "stdout"
        }
      ]
    },
    {
      "cell_type": "code",
      "metadata": {
        "colab": {
          "base_uri": "https://localhost:8080/",
          "height": 357
        },
        "id": "VL7YZcgdnHtJ",
        "outputId": "e75468ef-8b39-459e-d8f6-439b7760844e"
      },
      "source": [
        "#@title Training Model\n",
        "\n",
        "epochs=50 #@param {\"type\": \"integer\" }\n",
        "model.fit(x=X_train, \n",
        "          y=Y_train, \n",
        "          epochs=epochs,\n",
        "          validation_split=0.2, \n",
        "          callbacks=[tensorboard_callback])"
      ],
      "execution_count": 38,
      "outputs": [
        {
          "output_type": "stream",
          "text": [
            "Epoch 1/50\n"
          ],
          "name": "stdout"
        },
        {
          "output_type": "error",
          "ename": "TypeError",
          "evalue": "ignored",
          "traceback": [
            "\u001b[0;31m---------------------------------------------------------------------------\u001b[0m",
            "\u001b[0;31mTypeError\u001b[0m                                 Traceback (most recent call last)",
            "\u001b[0;32m<ipython-input-38-690c644fec9d>\u001b[0m in \u001b[0;36m<module>\u001b[0;34m()\u001b[0m\n\u001b[1;32m      6\u001b[0m           \u001b[0mepochs\u001b[0m\u001b[0;34m=\u001b[0m\u001b[0mepochs\u001b[0m\u001b[0;34m,\u001b[0m\u001b[0;34m\u001b[0m\u001b[0;34m\u001b[0m\u001b[0m\n\u001b[1;32m      7\u001b[0m           \u001b[0mvalidation_split\u001b[0m\u001b[0;34m=\u001b[0m\u001b[0;36m0.2\u001b[0m\u001b[0;34m,\u001b[0m\u001b[0;34m\u001b[0m\u001b[0;34m\u001b[0m\u001b[0m\n\u001b[0;32m----> 8\u001b[0;31m           callbacks=[tensorboard_callback])\n\u001b[0m",
            "\u001b[0;32m/usr/local/lib/python3.6/dist-packages/tensorflow/python/keras/engine/training.py\u001b[0m in \u001b[0;36mfit\u001b[0;34m(self, x, y, batch_size, epochs, verbose, callbacks, validation_split, validation_data, shuffle, class_weight, sample_weight, initial_epoch, steps_per_epoch, validation_steps, validation_batch_size, validation_freq, max_queue_size, workers, use_multiprocessing)\u001b[0m\n\u001b[1;32m   1098\u001b[0m                 _r=1):\n\u001b[1;32m   1099\u001b[0m               \u001b[0mcallbacks\u001b[0m\u001b[0;34m.\u001b[0m\u001b[0mon_train_batch_begin\u001b[0m\u001b[0;34m(\u001b[0m\u001b[0mstep\u001b[0m\u001b[0;34m)\u001b[0m\u001b[0;34m\u001b[0m\u001b[0;34m\u001b[0m\u001b[0m\n\u001b[0;32m-> 1100\u001b[0;31m               \u001b[0mtmp_logs\u001b[0m \u001b[0;34m=\u001b[0m \u001b[0mself\u001b[0m\u001b[0;34m.\u001b[0m\u001b[0mtrain_function\u001b[0m\u001b[0;34m(\u001b[0m\u001b[0miterator\u001b[0m\u001b[0;34m)\u001b[0m\u001b[0;34m\u001b[0m\u001b[0;34m\u001b[0m\u001b[0m\n\u001b[0m\u001b[1;32m   1101\u001b[0m               \u001b[0;32mif\u001b[0m \u001b[0mdata_handler\u001b[0m\u001b[0;34m.\u001b[0m\u001b[0mshould_sync\u001b[0m\u001b[0;34m:\u001b[0m\u001b[0;34m\u001b[0m\u001b[0;34m\u001b[0m\u001b[0m\n\u001b[1;32m   1102\u001b[0m                 \u001b[0mcontext\u001b[0m\u001b[0;34m.\u001b[0m\u001b[0masync_wait\u001b[0m\u001b[0;34m(\u001b[0m\u001b[0;34m)\u001b[0m\u001b[0;34m\u001b[0m\u001b[0;34m\u001b[0m\u001b[0m\n",
            "\u001b[0;32m/usr/local/lib/python3.6/dist-packages/tensorflow/python/eager/def_function.py\u001b[0m in \u001b[0;36m__call__\u001b[0;34m(self, *args, **kwds)\u001b[0m\n\u001b[1;32m    826\u001b[0m     \u001b[0mtracing_count\u001b[0m \u001b[0;34m=\u001b[0m \u001b[0mself\u001b[0m\u001b[0;34m.\u001b[0m\u001b[0mexperimental_get_tracing_count\u001b[0m\u001b[0;34m(\u001b[0m\u001b[0;34m)\u001b[0m\u001b[0;34m\u001b[0m\u001b[0;34m\u001b[0m\u001b[0m\n\u001b[1;32m    827\u001b[0m     \u001b[0;32mwith\u001b[0m \u001b[0mtrace\u001b[0m\u001b[0;34m.\u001b[0m\u001b[0mTrace\u001b[0m\u001b[0;34m(\u001b[0m\u001b[0mself\u001b[0m\u001b[0;34m.\u001b[0m\u001b[0m_name\u001b[0m\u001b[0;34m)\u001b[0m \u001b[0;32mas\u001b[0m \u001b[0mtm\u001b[0m\u001b[0;34m:\u001b[0m\u001b[0;34m\u001b[0m\u001b[0;34m\u001b[0m\u001b[0m\n\u001b[0;32m--> 828\u001b[0;31m       \u001b[0mresult\u001b[0m \u001b[0;34m=\u001b[0m \u001b[0mself\u001b[0m\u001b[0;34m.\u001b[0m\u001b[0m_call\u001b[0m\u001b[0;34m(\u001b[0m\u001b[0;34m*\u001b[0m\u001b[0margs\u001b[0m\u001b[0;34m,\u001b[0m \u001b[0;34m**\u001b[0m\u001b[0mkwds\u001b[0m\u001b[0;34m)\u001b[0m\u001b[0;34m\u001b[0m\u001b[0;34m\u001b[0m\u001b[0m\n\u001b[0m\u001b[1;32m    829\u001b[0m       \u001b[0mcompiler\u001b[0m \u001b[0;34m=\u001b[0m \u001b[0;34m\"xla\"\u001b[0m \u001b[0;32mif\u001b[0m \u001b[0mself\u001b[0m\u001b[0;34m.\u001b[0m\u001b[0m_experimental_compile\u001b[0m \u001b[0;32melse\u001b[0m \u001b[0;34m\"nonXla\"\u001b[0m\u001b[0;34m\u001b[0m\u001b[0;34m\u001b[0m\u001b[0m\n\u001b[1;32m    830\u001b[0m       \u001b[0mnew_tracing_count\u001b[0m \u001b[0;34m=\u001b[0m \u001b[0mself\u001b[0m\u001b[0;34m.\u001b[0m\u001b[0mexperimental_get_tracing_count\u001b[0m\u001b[0;34m(\u001b[0m\u001b[0;34m)\u001b[0m\u001b[0;34m\u001b[0m\u001b[0;34m\u001b[0m\u001b[0m\n",
            "\u001b[0;32m/usr/local/lib/python3.6/dist-packages/tensorflow/python/eager/def_function.py\u001b[0m in \u001b[0;36m_call\u001b[0;34m(self, *args, **kwds)\u001b[0m\n\u001b[1;32m    853\u001b[0m       \u001b[0;31m# In this case we have created variables on the first call, so we run the\u001b[0m\u001b[0;34m\u001b[0m\u001b[0;34m\u001b[0m\u001b[0;34m\u001b[0m\u001b[0m\n\u001b[1;32m    854\u001b[0m       \u001b[0;31m# defunned version which is guaranteed to never create variables.\u001b[0m\u001b[0;34m\u001b[0m\u001b[0;34m\u001b[0m\u001b[0;34m\u001b[0m\u001b[0m\n\u001b[0;32m--> 855\u001b[0;31m       \u001b[0;32mreturn\u001b[0m \u001b[0mself\u001b[0m\u001b[0;34m.\u001b[0m\u001b[0m_stateless_fn\u001b[0m\u001b[0;34m(\u001b[0m\u001b[0;34m*\u001b[0m\u001b[0margs\u001b[0m\u001b[0;34m,\u001b[0m \u001b[0;34m**\u001b[0m\u001b[0mkwds\u001b[0m\u001b[0;34m)\u001b[0m  \u001b[0;31m# pylint: disable=not-callable\u001b[0m\u001b[0;34m\u001b[0m\u001b[0;34m\u001b[0m\u001b[0m\n\u001b[0m\u001b[1;32m    856\u001b[0m     \u001b[0;32melif\u001b[0m \u001b[0mself\u001b[0m\u001b[0;34m.\u001b[0m\u001b[0m_stateful_fn\u001b[0m \u001b[0;32mis\u001b[0m \u001b[0;32mnot\u001b[0m \u001b[0;32mNone\u001b[0m\u001b[0;34m:\u001b[0m\u001b[0;34m\u001b[0m\u001b[0;34m\u001b[0m\u001b[0m\n\u001b[1;32m    857\u001b[0m       \u001b[0;31m# Release the lock early so that multiple threads can perform the call\u001b[0m\u001b[0;34m\u001b[0m\u001b[0;34m\u001b[0m\u001b[0;34m\u001b[0m\u001b[0m\n",
            "\u001b[0;31mTypeError\u001b[0m: 'NoneType' object is not callable"
          ]
        }
      ]
    },
    {
      "cell_type": "code",
      "metadata": {
        "id": "35DtnfvTnMFb"
      },
      "source": [
        ""
      ],
      "execution_count": 38,
      "outputs": []
    }
  ]
}