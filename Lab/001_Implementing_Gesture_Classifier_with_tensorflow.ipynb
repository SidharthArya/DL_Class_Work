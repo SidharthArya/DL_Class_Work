{
  "nbformat": 4,
  "nbformat_minor": 0,
  "metadata": {
    "colab": {
      "name": "006-Implementing-Gesture-Classifier-with-tensorflow.ipynb",
      "provenance": [],
      "collapsed_sections": [],
      "authorship_tag": "ABX9TyNRYsvTMkrHGEgWOxGeYPE0",
      "include_colab_link": true
    },
    "kernelspec": {
      "name": "python3",
      "display_name": "Python 3"
    }
  },
  "cells": [
    {
      "cell_type": "markdown",
      "metadata": {
        "id": "view-in-github",
        "colab_type": "text"
      },
      "source": [
        "<a href=\"https://colab.research.google.com/github/SidharthArya/Deep_Learning_Class_Manit/blob/main/Lab/001_Implementing_Gesture_Classifier_with_tensorflow.ipynb\" target=\"_parent\"><img src=\"https://colab.research.google.com/assets/colab-badge.svg\" alt=\"Open In Colab\"/></a>"
      ]
    },
    {
      "cell_type": "code",
      "metadata": {
        "id": "7tK-uO50-wBz"
      },
      "source": [
        "import tensorflow as tf\n",
        "import numpy as np\n",
        "import pandas as pd\n",
        "from matplotlib import pyplot as plt\n",
        "import seaborn as sns\n",
        "from sklearn.model_selection import train_test_split\n"
      ],
      "execution_count": 1,
      "outputs": []
    },
    {
      "cell_type": "code",
      "metadata": {
        "id": "MEMEtYdf_wcF"
      },
      "source": [
        "\n",
        "jump = pd.read_csv(\"https://raw.githubusercontent.com/UNCG-DAISY/Tiny_Gesture/main/data/jump_set.csv\")\n",
        "run = pd.read_csv(\"https://raw.githubusercontent.com/UNCG-DAISY/Tiny_Gesture/main/data/run_set.csv\")\n",
        "squat = pd.read_csv(\"https://raw.githubusercontent.com/UNCG-DAISY/Tiny_Gesture/main/data/squat_set.csv\")\n",
        "walk = pd.read_csv(\"https://raw.githubusercontent.com/UNCG-DAISY/Tiny_Gesture/main/data/walk_set.csv\")\n",
        "other = pd.read_csv(\"https://raw.githubusercontent.com/UNCG-DAISY/Tiny_Gesture/main/data/other_set.csv\")"
      ],
      "execution_count": 2,
      "outputs": []
    },
    {
      "cell_type": "code",
      "metadata": {
        "colab": {
          "base_uri": "https://localhost:8080/"
        },
        "id": "axgsg3cAAPEJ",
        "outputId": "52fc2dea-8961-479e-debb-394599f36635"
      },
      "source": [
        "jump.shape"
      ],
      "execution_count": 3,
      "outputs": [
        {
          "output_type": "execute_result",
          "data": {
            "text/plain": [
              "(11900, 6)"
            ]
          },
          "metadata": {
            "tags": []
          },
          "execution_count": 3
        }
      ]
    },
    {
      "cell_type": "code",
      "metadata": {
        "colab": {
          "base_uri": "https://localhost:8080/"
        },
        "id": "ejf1V7WcARms",
        "outputId": "56e10ffc-10a4-4e22-b919-06d1e27b4cad"
      },
      "source": [
        "run.shape"
      ],
      "execution_count": 4,
      "outputs": [
        {
          "output_type": "execute_result",
          "data": {
            "text/plain": [
              "(11900, 6)"
            ]
          },
          "metadata": {
            "tags": []
          },
          "execution_count": 4
        }
      ]
    },
    {
      "cell_type": "markdown",
      "metadata": {
        "id": "z8vlqWXUDicw"
      },
      "source": [
        "## Data Preprocessing"
      ]
    },
    {
      "cell_type": "code",
      "metadata": {
        "id": "vrcuxX8rPTD8"
      },
      "source": [
        "GESTURES = [\n",
        "    \"squat_set\",\n",
        "    \"jump_set\",\n",
        "    \"walk_set\",\n",
        "    \"run_set\",\n",
        "    \"other_set\"]"
      ],
      "execution_count": 5,
      "outputs": []
    },
    {
      "cell_type": "code",
      "metadata": {
        "colab": {
          "base_uri": "https://localhost:8080/"
        },
        "id": "Qn9he0MDF9ma",
        "outputId": "a58e30f4-b7d5-4d1b-89cc-c701ad711561"
      },
      "source": [
        "SAMPLES_PER_GESTURE = 119\n",
        "\n",
        "NUM_GESTURES = len(GESTURES)\n",
        "\n",
        "# create a one-hot encoded matrix that is used in the output\n",
        "ONE_HOT_ENCODED_GESTURES = np.eye(NUM_GESTURES)\n",
        "dft = [ jump,run,squat,walk,other]\n",
        "inputs = []\n",
        "outputs = []\n",
        "\n",
        "# read each csv file and push an input and output\n",
        "for gesture_index in range(NUM_GESTURES):\n",
        "  gesture = GESTURES[gesture_index]\n",
        "  print(f\"Processing index {gesture_index} for gesture '{gesture}'.\")\n",
        "  \n",
        "  output = ONE_HOT_ENCODED_GESTURES[gesture_index]\n",
        "  print(output)\n",
        "  df = dft[gesture_index]\n",
        "  \n",
        "  # calculate the number of gesture recordings in the file\n",
        "  num_recordings = int(df.shape[0] / SAMPLES_PER_GESTURE)\n",
        "  \n",
        "  print(f\"\\tThere are {num_recordings} recordings of the {gesture} gesture.\")\n",
        "  \n",
        "  for i in range(num_recordings):\n",
        "    tensor = []\n",
        "    for j in range(SAMPLES_PER_GESTURE):\n",
        "      index = i * SAMPLES_PER_GESTURE + j\n",
        "      # normalize the input data, between 0 to 1:\n",
        "      # - acceleration is between: -4 to +4\n",
        "      # - gyroscope is between: -2000 to +2000\n",
        "      tensor += [\n",
        "          (df['aX'][index] + 4) / 8,\n",
        "          (df['aY'][index] + 4) / 8,\n",
        "          (df['aZ'][index] + 4) / 8,\n",
        "          (df['gX'][index] + 2000) / 4000,\n",
        "          (df['gY'][index] + 2000) / 4000,\n",
        "          (df['gZ'][index] + 2000) / 4000\n",
        "      ]\n",
        "\n",
        "    inputs.append(tensor)\n",
        "    outputs.append(output)\n",
        "# convert the list to numpy array\n",
        "inputs = np.array(inputs)\n",
        "outputs = np.array(outputs)\n",
        "\n",
        "print(\"Data set parsing and preparation complete.\")\n",
        "\n"
      ],
      "execution_count": 6,
      "outputs": [
        {
          "output_type": "stream",
          "text": [
            "Processing index 0 for gesture 'squat_set'.\n",
            "[1. 0. 0. 0. 0.]\n",
            "\tThere are 100 recordings of the squat_set gesture.\n",
            "Processing index 1 for gesture 'jump_set'.\n",
            "[0. 1. 0. 0. 0.]\n",
            "\tThere are 100 recordings of the jump_set gesture.\n",
            "Processing index 2 for gesture 'walk_set'.\n",
            "[0. 0. 1. 0. 0.]\n",
            "\tThere are 100 recordings of the walk_set gesture.\n",
            "Processing index 3 for gesture 'run_set'.\n",
            "[0. 0. 0. 1. 0.]\n",
            "\tThere are 100 recordings of the run_set gesture.\n",
            "Processing index 4 for gesture 'other_set'.\n",
            "[0. 0. 0. 0. 1.]\n",
            "\tThere are 100 recordings of the other_set gesture.\n",
            "Data set parsing and preparation complete.\n"
          ],
          "name": "stdout"
        }
      ]
    },
    {
      "cell_type": "code",
      "metadata": {
        "id": "UozmYlqKDmvx"
      },
      "source": [
        ""
      ],
      "execution_count": 6,
      "outputs": []
    },
    {
      "cell_type": "code",
      "metadata": {
        "id": "D5CKRlRJIEL4"
      },
      "source": [
        ""
      ],
      "execution_count": 6,
      "outputs": []
    },
    {
      "cell_type": "code",
      "metadata": {
        "id": "RWDZLvvXGNts"
      },
      "source": [
        ""
      ],
      "execution_count": 6,
      "outputs": []
    },
    {
      "cell_type": "code",
      "metadata": {
        "id": "s8ieebJMHyrD"
      },
      "source": [
        ""
      ],
      "execution_count": 6,
      "outputs": []
    },
    {
      "cell_type": "code",
      "metadata": {
        "id": "-F4yJ2eKLsQ7"
      },
      "source": [
        ""
      ],
      "execution_count": 6,
      "outputs": []
    },
    {
      "cell_type": "code",
      "metadata": {
        "id": "nVrxX9T1FAb5"
      },
      "source": [
        "input_shape=inputs[0].shape"
      ],
      "execution_count": 7,
      "outputs": []
    },
    {
      "cell_type": "code",
      "metadata": {
        "id": "wLQprHpPQE95"
      },
      "source": [
        ""
      ],
      "execution_count": 7,
      "outputs": []
    },
    {
      "cell_type": "code",
      "metadata": {
        "id": "Xs0pnnl6QH6c"
      },
      "source": [
        "X_train, X_test, y_train, y_test = train_test_split(inputs, outputs, test_size=0.2, random_state=42)"
      ],
      "execution_count": 8,
      "outputs": []
    },
    {
      "cell_type": "code",
      "metadata": {
        "id": "-r4zFlfaAprL"
      },
      "source": [
        "model = tf.keras.Sequential(\n",
        "      [\n",
        "       tf.keras.layers.Dense(512,input_shape=input_shape, activation=\"relu\"),\n",
        "       tf.keras.layers.Dense(256, activation='relu'),\n",
        "       tf.keras.layers.Dropout(.1),\n",
        "       tf.keras.layers.Dense(128, activation='relu'),\n",
        "       tf.keras.layers.Dense(64, activation='relu'),\n",
        "       tf.keras.layers.Dropout(.1),\n",
        "       tf.keras.layers.Flatten(),\n",
        "       tf.keras.layers.Dense(5,activation = \"sigmoid\")\n",
        "      ])\n",
        "\n"
      ],
      "execution_count": 9,
      "outputs": []
    },
    {
      "cell_type": "code",
      "metadata": {
        "id": "42gwqXftKUJ9"
      },
      "source": [
        "model.compile(optimizer=\"adam\",\n",
        "              loss = \"categorical_crossentropy\",\n",
        "              metrics = [\"accuracy\"])"
      ],
      "execution_count": 10,
      "outputs": []
    },
    {
      "cell_type": "code",
      "metadata": {
        "colab": {
          "base_uri": "https://localhost:8080/"
        },
        "id": "jP3UHeYQLG2k",
        "outputId": "46ebb838-018f-433b-9840-70af15bef889"
      },
      "source": [
        "model.summary()"
      ],
      "execution_count": 11,
      "outputs": [
        {
          "output_type": "stream",
          "text": [
            "Model: \"sequential\"\n",
            "_________________________________________________________________\n",
            "Layer (type)                 Output Shape              Param #   \n",
            "=================================================================\n",
            "dense (Dense)                (None, 512)               366080    \n",
            "_________________________________________________________________\n",
            "dense_1 (Dense)              (None, 256)               131328    \n",
            "_________________________________________________________________\n",
            "dropout (Dropout)            (None, 256)               0         \n",
            "_________________________________________________________________\n",
            "dense_2 (Dense)              (None, 128)               32896     \n",
            "_________________________________________________________________\n",
            "dense_3 (Dense)              (None, 64)                8256      \n",
            "_________________________________________________________________\n",
            "dropout_1 (Dropout)          (None, 64)                0         \n",
            "_________________________________________________________________\n",
            "flatten (Flatten)            (None, 64)                0         \n",
            "_________________________________________________________________\n",
            "dense_4 (Dense)              (None, 5)                 325       \n",
            "=================================================================\n",
            "Total params: 538,885\n",
            "Trainable params: 538,885\n",
            "Non-trainable params: 0\n",
            "_________________________________________________________________\n"
          ],
          "name": "stdout"
        }
      ]
    },
    {
      "cell_type": "code",
      "metadata": {
        "colab": {
          "base_uri": "https://localhost:8080/"
        },
        "id": "QEytcZl3LP6R",
        "outputId": "246d5c5e-5855-4eed-f91e-ee61101c8172"
      },
      "source": [
        "model.fit(X_train, y_train,\n",
        "          epochs = 100,\n",
        "          validation_split = 0.2,\n",
        "          batch_size=10,\n",
        "          verbose=True)"
      ],
      "execution_count": 12,
      "outputs": [
        {
          "output_type": "stream",
          "text": [
            "Epoch 1/100\n",
            "32/32 [==============================] - 1s 20ms/step - loss: 1.7004 - accuracy: 0.1852 - val_loss: 1.6362 - val_accuracy: 0.1625\n",
            "Epoch 2/100\n",
            "32/32 [==============================] - 0s 6ms/step - loss: 1.6168 - accuracy: 0.1808 - val_loss: 1.6802 - val_accuracy: 0.1875\n",
            "Epoch 3/100\n",
            "32/32 [==============================] - 0s 6ms/step - loss: 1.6412 - accuracy: 0.1697 - val_loss: 1.6396 - val_accuracy: 0.1625\n",
            "Epoch 4/100\n",
            "32/32 [==============================] - 0s 6ms/step - loss: 1.6177 - accuracy: 0.2616 - val_loss: 1.6339 - val_accuracy: 0.1625\n",
            "Epoch 5/100\n",
            "32/32 [==============================] - 0s 6ms/step - loss: 1.5993 - accuracy: 0.2437 - val_loss: 1.6145 - val_accuracy: 0.1625\n",
            "Epoch 6/100\n",
            "32/32 [==============================] - 0s 6ms/step - loss: 1.6066 - accuracy: 0.2409 - val_loss: 1.6062 - val_accuracy: 0.1625\n",
            "Epoch 7/100\n",
            "32/32 [==============================] - 0s 6ms/step - loss: 1.5921 - accuracy: 0.2802 - val_loss: 1.5908 - val_accuracy: 0.3250\n",
            "Epoch 8/100\n",
            "32/32 [==============================] - 0s 6ms/step - loss: 1.5707 - accuracy: 0.2827 - val_loss: 1.5794 - val_accuracy: 0.1875\n",
            "Epoch 9/100\n",
            "32/32 [==============================] - 0s 7ms/step - loss: 1.5992 - accuracy: 0.2397 - val_loss: 1.5287 - val_accuracy: 0.4250\n",
            "Epoch 10/100\n",
            "32/32 [==============================] - 0s 6ms/step - loss: 1.5276 - accuracy: 0.3256 - val_loss: 1.2863 - val_accuracy: 0.5125\n",
            "Epoch 11/100\n",
            "32/32 [==============================] - 0s 6ms/step - loss: 1.4114 - accuracy: 0.3866 - val_loss: 1.3444 - val_accuracy: 0.2000\n",
            "Epoch 12/100\n",
            "32/32 [==============================] - 0s 11ms/step - loss: 1.3590 - accuracy: 0.3970 - val_loss: 1.2263 - val_accuracy: 0.3875\n",
            "Epoch 13/100\n",
            "32/32 [==============================] - 0s 6ms/step - loss: 1.3283 - accuracy: 0.3908 - val_loss: 1.2991 - val_accuracy: 0.3625\n",
            "Epoch 14/100\n",
            "32/32 [==============================] - 0s 6ms/step - loss: 1.1624 - accuracy: 0.5052 - val_loss: 1.0468 - val_accuracy: 0.4625\n",
            "Epoch 15/100\n",
            "32/32 [==============================] - 0s 6ms/step - loss: 1.1082 - accuracy: 0.5017 - val_loss: 1.0020 - val_accuracy: 0.5375\n",
            "Epoch 16/100\n",
            "32/32 [==============================] - 0s 6ms/step - loss: 1.0119 - accuracy: 0.5398 - val_loss: 1.2821 - val_accuracy: 0.3875\n",
            "Epoch 17/100\n",
            "32/32 [==============================] - 0s 6ms/step - loss: 1.1551 - accuracy: 0.5023 - val_loss: 1.1278 - val_accuracy: 0.3875\n",
            "Epoch 18/100\n",
            "32/32 [==============================] - 0s 6ms/step - loss: 0.9283 - accuracy: 0.5954 - val_loss: 1.0387 - val_accuracy: 0.4375\n",
            "Epoch 19/100\n",
            "32/32 [==============================] - 0s 6ms/step - loss: 0.8554 - accuracy: 0.6543 - val_loss: 0.9884 - val_accuracy: 0.5250\n",
            "Epoch 20/100\n",
            "32/32 [==============================] - 0s 6ms/step - loss: 0.9320 - accuracy: 0.5568 - val_loss: 0.8612 - val_accuracy: 0.6250\n",
            "Epoch 21/100\n",
            "32/32 [==============================] - 0s 6ms/step - loss: 0.8865 - accuracy: 0.6358 - val_loss: 0.7278 - val_accuracy: 0.6375\n",
            "Epoch 22/100\n",
            "32/32 [==============================] - 0s 7ms/step - loss: 0.7810 - accuracy: 0.6716 - val_loss: 1.4370 - val_accuracy: 0.3750\n",
            "Epoch 23/100\n",
            "32/32 [==============================] - 0s 6ms/step - loss: 1.1200 - accuracy: 0.5456 - val_loss: 0.8263 - val_accuracy: 0.6375\n",
            "Epoch 24/100\n",
            "32/32 [==============================] - 0s 6ms/step - loss: 0.8044 - accuracy: 0.6731 - val_loss: 0.7354 - val_accuracy: 0.7125\n",
            "Epoch 25/100\n",
            "32/32 [==============================] - 0s 6ms/step - loss: 0.7048 - accuracy: 0.7016 - val_loss: 1.0948 - val_accuracy: 0.5125\n",
            "Epoch 26/100\n",
            "32/32 [==============================] - 0s 6ms/step - loss: 0.9017 - accuracy: 0.6117 - val_loss: 0.6959 - val_accuracy: 0.7125\n",
            "Epoch 27/100\n",
            "32/32 [==============================] - 0s 6ms/step - loss: 0.6522 - accuracy: 0.6950 - val_loss: 1.2834 - val_accuracy: 0.4000\n",
            "Epoch 28/100\n",
            "32/32 [==============================] - 0s 6ms/step - loss: 0.7507 - accuracy: 0.6386 - val_loss: 0.7996 - val_accuracy: 0.6625\n",
            "Epoch 29/100\n",
            "32/32 [==============================] - 0s 6ms/step - loss: 0.7511 - accuracy: 0.7054 - val_loss: 0.6780 - val_accuracy: 0.6500\n",
            "Epoch 30/100\n",
            "32/32 [==============================] - 0s 6ms/step - loss: 0.7054 - accuracy: 0.6623 - val_loss: 0.7824 - val_accuracy: 0.6125\n",
            "Epoch 31/100\n",
            "32/32 [==============================] - 0s 6ms/step - loss: 0.6775 - accuracy: 0.7063 - val_loss: 0.7345 - val_accuracy: 0.6750\n",
            "Epoch 32/100\n",
            "32/32 [==============================] - 0s 6ms/step - loss: 0.6584 - accuracy: 0.7006 - val_loss: 0.5719 - val_accuracy: 0.7000\n",
            "Epoch 33/100\n",
            "32/32 [==============================] - 0s 6ms/step - loss: 0.6140 - accuracy: 0.7378 - val_loss: 0.6483 - val_accuracy: 0.7750\n",
            "Epoch 34/100\n",
            "32/32 [==============================] - 0s 6ms/step - loss: 0.6090 - accuracy: 0.7363 - val_loss: 0.7885 - val_accuracy: 0.6000\n",
            "Epoch 35/100\n",
            "32/32 [==============================] - 0s 6ms/step - loss: 0.6121 - accuracy: 0.7041 - val_loss: 0.5612 - val_accuracy: 0.7250\n",
            "Epoch 36/100\n",
            "32/32 [==============================] - 0s 6ms/step - loss: 0.5060 - accuracy: 0.7785 - val_loss: 0.5956 - val_accuracy: 0.7375\n",
            "Epoch 37/100\n",
            "32/32 [==============================] - 0s 5ms/step - loss: 0.5966 - accuracy: 0.7331 - val_loss: 0.5837 - val_accuracy: 0.7625\n",
            "Epoch 38/100\n",
            "32/32 [==============================] - 0s 6ms/step - loss: 0.6000 - accuracy: 0.7654 - val_loss: 0.5392 - val_accuracy: 0.7375\n",
            "Epoch 39/100\n",
            "32/32 [==============================] - 0s 6ms/step - loss: 0.7247 - accuracy: 0.7077 - val_loss: 1.2284 - val_accuracy: 0.5250\n",
            "Epoch 40/100\n",
            "32/32 [==============================] - 0s 6ms/step - loss: 0.6877 - accuracy: 0.7025 - val_loss: 0.5985 - val_accuracy: 0.7375\n",
            "Epoch 41/100\n",
            "32/32 [==============================] - 0s 6ms/step - loss: 0.5368 - accuracy: 0.7799 - val_loss: 0.6171 - val_accuracy: 0.6500\n",
            "Epoch 42/100\n",
            "32/32 [==============================] - 0s 6ms/step - loss: 0.4755 - accuracy: 0.7746 - val_loss: 0.6174 - val_accuracy: 0.7500\n",
            "Epoch 43/100\n",
            "32/32 [==============================] - 0s 6ms/step - loss: 0.5305 - accuracy: 0.7759 - val_loss: 0.6349 - val_accuracy: 0.7625\n",
            "Epoch 44/100\n",
            "32/32 [==============================] - 0s 6ms/step - loss: 0.5569 - accuracy: 0.7482 - val_loss: 1.0681 - val_accuracy: 0.5250\n",
            "Epoch 45/100\n",
            "32/32 [==============================] - 0s 7ms/step - loss: 0.5312 - accuracy: 0.7711 - val_loss: 0.7312 - val_accuracy: 0.7000\n",
            "Epoch 46/100\n",
            "32/32 [==============================] - 0s 6ms/step - loss: 0.4644 - accuracy: 0.8359 - val_loss: 0.5192 - val_accuracy: 0.7125\n",
            "Epoch 47/100\n",
            "32/32 [==============================] - 0s 6ms/step - loss: 0.4901 - accuracy: 0.7825 - val_loss: 0.5697 - val_accuracy: 0.6875\n",
            "Epoch 48/100\n",
            "32/32 [==============================] - 0s 6ms/step - loss: 0.5399 - accuracy: 0.7298 - val_loss: 0.8874 - val_accuracy: 0.6500\n",
            "Epoch 49/100\n",
            "32/32 [==============================] - 0s 6ms/step - loss: 0.5930 - accuracy: 0.7192 - val_loss: 0.5334 - val_accuracy: 0.7875\n",
            "Epoch 50/100\n",
            "32/32 [==============================] - 0s 6ms/step - loss: 0.4481 - accuracy: 0.8112 - val_loss: 0.9526 - val_accuracy: 0.6500\n",
            "Epoch 51/100\n",
            "32/32 [==============================] - 0s 6ms/step - loss: 0.6406 - accuracy: 0.6974 - val_loss: 0.5207 - val_accuracy: 0.7750\n",
            "Epoch 52/100\n",
            "32/32 [==============================] - 0s 6ms/step - loss: 0.5585 - accuracy: 0.7552 - val_loss: 0.5312 - val_accuracy: 0.7375\n",
            "Epoch 53/100\n",
            "32/32 [==============================] - 0s 7ms/step - loss: 0.5213 - accuracy: 0.7909 - val_loss: 0.5610 - val_accuracy: 0.8000\n",
            "Epoch 54/100\n",
            "32/32 [==============================] - 0s 6ms/step - loss: 0.4479 - accuracy: 0.8331 - val_loss: 0.8446 - val_accuracy: 0.6250\n",
            "Epoch 55/100\n",
            "32/32 [==============================] - 0s 6ms/step - loss: 0.6932 - accuracy: 0.7303 - val_loss: 0.5396 - val_accuracy: 0.8125\n",
            "Epoch 56/100\n",
            "32/32 [==============================] - 0s 6ms/step - loss: 0.5254 - accuracy: 0.7829 - val_loss: 0.5184 - val_accuracy: 0.7625\n",
            "Epoch 57/100\n",
            "32/32 [==============================] - 0s 6ms/step - loss: 0.4266 - accuracy: 0.7969 - val_loss: 0.4892 - val_accuracy: 0.7500\n",
            "Epoch 58/100\n",
            "32/32 [==============================] - 0s 6ms/step - loss: 0.4535 - accuracy: 0.8154 - val_loss: 0.4596 - val_accuracy: 0.8125\n",
            "Epoch 59/100\n",
            "32/32 [==============================] - 0s 6ms/step - loss: 0.4735 - accuracy: 0.8054 - val_loss: 0.4716 - val_accuracy: 0.7625\n",
            "Epoch 60/100\n",
            "32/32 [==============================] - 0s 7ms/step - loss: 0.3934 - accuracy: 0.8253 - val_loss: 0.6178 - val_accuracy: 0.7375\n",
            "Epoch 61/100\n",
            "32/32 [==============================] - 0s 6ms/step - loss: 0.3865 - accuracy: 0.8599 - val_loss: 1.6373 - val_accuracy: 0.4500\n",
            "Epoch 62/100\n",
            "32/32 [==============================] - 0s 6ms/step - loss: 0.5739 - accuracy: 0.7771 - val_loss: 1.0500 - val_accuracy: 0.5875\n",
            "Epoch 63/100\n",
            "32/32 [==============================] - 0s 7ms/step - loss: 0.7142 - accuracy: 0.6801 - val_loss: 1.1566 - val_accuracy: 0.5625\n",
            "Epoch 64/100\n",
            "32/32 [==============================] - 0s 7ms/step - loss: 0.6856 - accuracy: 0.7274 - val_loss: 0.5465 - val_accuracy: 0.7250\n",
            "Epoch 65/100\n",
            "32/32 [==============================] - 0s 6ms/step - loss: 0.5109 - accuracy: 0.7629 - val_loss: 0.5413 - val_accuracy: 0.7750\n",
            "Epoch 66/100\n",
            "32/32 [==============================] - 0s 10ms/step - loss: 0.4053 - accuracy: 0.8275 - val_loss: 0.6189 - val_accuracy: 0.7625\n",
            "Epoch 67/100\n",
            "32/32 [==============================] - 0s 6ms/step - loss: 0.4452 - accuracy: 0.7821 - val_loss: 0.6271 - val_accuracy: 0.7375\n",
            "Epoch 68/100\n",
            "32/32 [==============================] - 0s 6ms/step - loss: 0.4425 - accuracy: 0.8423 - val_loss: 0.6341 - val_accuracy: 0.7625\n",
            "Epoch 69/100\n",
            "32/32 [==============================] - 0s 6ms/step - loss: 0.3803 - accuracy: 0.8355 - val_loss: 0.5297 - val_accuracy: 0.8000\n",
            "Epoch 70/100\n",
            "32/32 [==============================] - 0s 6ms/step - loss: 0.3791 - accuracy: 0.8221 - val_loss: 0.5841 - val_accuracy: 0.6625\n",
            "Epoch 71/100\n",
            "32/32 [==============================] - 0s 6ms/step - loss: 0.5540 - accuracy: 0.7925 - val_loss: 0.5970 - val_accuracy: 0.7750\n",
            "Epoch 72/100\n",
            "32/32 [==============================] - 0s 6ms/step - loss: 0.3173 - accuracy: 0.8688 - val_loss: 0.4496 - val_accuracy: 0.7375\n",
            "Epoch 73/100\n",
            "32/32 [==============================] - 0s 6ms/step - loss: 0.3643 - accuracy: 0.8426 - val_loss: 0.7107 - val_accuracy: 0.7375\n",
            "Epoch 74/100\n",
            "32/32 [==============================] - 0s 6ms/step - loss: 0.4964 - accuracy: 0.8032 - val_loss: 0.5154 - val_accuracy: 0.8000\n",
            "Epoch 75/100\n",
            "32/32 [==============================] - 0s 6ms/step - loss: 0.3546 - accuracy: 0.8671 - val_loss: 0.4627 - val_accuracy: 0.7500\n",
            "Epoch 76/100\n",
            "32/32 [==============================] - 0s 6ms/step - loss: 0.3491 - accuracy: 0.8451 - val_loss: 0.5103 - val_accuracy: 0.8000\n",
            "Epoch 77/100\n",
            "32/32 [==============================] - 0s 6ms/step - loss: 0.4356 - accuracy: 0.8075 - val_loss: 0.4162 - val_accuracy: 0.8625\n",
            "Epoch 78/100\n",
            "32/32 [==============================] - 0s 6ms/step - loss: 0.3826 - accuracy: 0.8617 - val_loss: 0.4068 - val_accuracy: 0.7750\n",
            "Epoch 79/100\n",
            "32/32 [==============================] - 0s 6ms/step - loss: 0.4835 - accuracy: 0.8005 - val_loss: 0.4675 - val_accuracy: 0.8625\n",
            "Epoch 80/100\n",
            "32/32 [==============================] - 0s 5ms/step - loss: 0.4752 - accuracy: 0.7547 - val_loss: 0.4505 - val_accuracy: 0.7750\n",
            "Epoch 81/100\n",
            "32/32 [==============================] - 0s 6ms/step - loss: 0.3418 - accuracy: 0.8368 - val_loss: 0.4231 - val_accuracy: 0.8875\n",
            "Epoch 82/100\n",
            "32/32 [==============================] - 0s 6ms/step - loss: 0.2520 - accuracy: 0.9027 - val_loss: 0.4354 - val_accuracy: 0.8375\n",
            "Epoch 83/100\n",
            "32/32 [==============================] - 0s 6ms/step - loss: 0.3199 - accuracy: 0.8786 - val_loss: 1.0243 - val_accuracy: 0.6375\n",
            "Epoch 84/100\n",
            "32/32 [==============================] - 0s 6ms/step - loss: 0.3935 - accuracy: 0.8468 - val_loss: 0.6566 - val_accuracy: 0.7875\n",
            "Epoch 85/100\n",
            "32/32 [==============================] - 0s 6ms/step - loss: 0.3647 - accuracy: 0.8190 - val_loss: 0.3978 - val_accuracy: 0.7500\n",
            "Epoch 86/100\n",
            "32/32 [==============================] - 0s 6ms/step - loss: 0.3059 - accuracy: 0.8712 - val_loss: 0.4494 - val_accuracy: 0.8250\n",
            "Epoch 87/100\n",
            "32/32 [==============================] - 0s 6ms/step - loss: 0.4649 - accuracy: 0.8116 - val_loss: 1.2912 - val_accuracy: 0.4625\n",
            "Epoch 88/100\n",
            "32/32 [==============================] - 0s 7ms/step - loss: 0.7315 - accuracy: 0.6779 - val_loss: 0.5392 - val_accuracy: 0.7000\n",
            "Epoch 89/100\n",
            "32/32 [==============================] - 0s 6ms/step - loss: 0.3977 - accuracy: 0.8386 - val_loss: 0.4209 - val_accuracy: 0.8375\n",
            "Epoch 90/100\n",
            "32/32 [==============================] - 0s 6ms/step - loss: 0.3371 - accuracy: 0.8710 - val_loss: 0.6583 - val_accuracy: 0.7750\n",
            "Epoch 91/100\n",
            "32/32 [==============================] - 0s 6ms/step - loss: 0.5752 - accuracy: 0.7950 - val_loss: 0.9383 - val_accuracy: 0.6375\n",
            "Epoch 92/100\n",
            "32/32 [==============================] - 0s 6ms/step - loss: 0.3737 - accuracy: 0.8565 - val_loss: 0.3727 - val_accuracy: 0.8750\n",
            "Epoch 93/100\n",
            "32/32 [==============================] - 0s 7ms/step - loss: 0.4454 - accuracy: 0.8003 - val_loss: 0.4210 - val_accuracy: 0.8500\n",
            "Epoch 94/100\n",
            "32/32 [==============================] - 0s 6ms/step - loss: 0.2851 - accuracy: 0.8973 - val_loss: 0.4102 - val_accuracy: 0.8625\n",
            "Epoch 95/100\n",
            "32/32 [==============================] - 0s 6ms/step - loss: 0.4448 - accuracy: 0.8148 - val_loss: 0.4914 - val_accuracy: 0.7625\n",
            "Epoch 96/100\n",
            "32/32 [==============================] - 0s 6ms/step - loss: 0.5972 - accuracy: 0.7637 - val_loss: 0.3714 - val_accuracy: 0.8750\n",
            "Epoch 97/100\n",
            "32/32 [==============================] - 0s 7ms/step - loss: 0.3427 - accuracy: 0.8555 - val_loss: 0.5573 - val_accuracy: 0.7500\n",
            "Epoch 98/100\n",
            "32/32 [==============================] - 0s 6ms/step - loss: 0.3532 - accuracy: 0.8511 - val_loss: 0.4210 - val_accuracy: 0.7875\n",
            "Epoch 99/100\n",
            "32/32 [==============================] - 0s 6ms/step - loss: 0.4075 - accuracy: 0.8119 - val_loss: 0.3698 - val_accuracy: 0.8625\n",
            "Epoch 100/100\n",
            "32/32 [==============================] - 0s 6ms/step - loss: 0.2616 - accuracy: 0.8787 - val_loss: 0.4750 - val_accuracy: 0.7875\n"
          ],
          "name": "stdout"
        },
        {
          "output_type": "execute_result",
          "data": {
            "text/plain": [
              "<tensorflow.python.keras.callbacks.History at 0x7fc85f067518>"
            ]
          },
          "metadata": {
            "tags": []
          },
          "execution_count": 12
        }
      ]
    },
    {
      "cell_type": "code",
      "metadata": {
        "id": "B8XhZt-5Qj5F"
      },
      "source": [
        "predictions = model.predict(X_test)"
      ],
      "execution_count": 13,
      "outputs": []
    },
    {
      "cell_type": "code",
      "metadata": {
        "colab": {
          "base_uri": "https://localhost:8080/",
          "height": 311
        },
        "id": "oyQ8_WTtP7ny",
        "outputId": "104ea1e4-9f15-4640-ed3c-2364c4377891"
      },
      "source": [
        "cm = tf.math.confusion_matrix(labels=tf.argmax(y_test, 1), predictions=tf.argmax(predictions, 1))\n",
        "axis_labels = [\"Squat\", \"Jump\", \"Walk\", \"Run\", \"Other\"]\n",
        "figure = plt.figure(figsize=(6, 4))\n",
        "sns.heatmap(cm, annot=True,cmap=plt.cm.Blues,xticklabels=axis_labels, yticklabels=axis_labels)\n",
        "plt.ylim(len(cm)-0, 0)\n",
        "plt.tight_layout()\n",
        "plt.ylabel('True label')\n",
        "plt.xlabel('Predicted label')\n",
        "plt.show()"
      ],
      "execution_count": 14,
      "outputs": [
        {
          "output_type": "display_data",
          "data": {
            "image/png": "[encoded data removed]",
            "text/plain": [
              "<Figure size 432x288 with 2 Axes>"
            ]
          },
          "metadata": {
            "tags": [],
            "needs_background": "light"
          }
        }
      ]
    },
    {
      "cell_type": "code",
      "metadata": {
        "id": "OCzoxeXYQX-k"
      },
      "source": [
        ""
      ],
      "execution_count": 14,
      "outputs": []
    },
    {
      "cell_type": "code",
      "metadata": {
        "id": "AiVou7AFQrPP"
      },
      "source": [
        ""
      ],
      "execution_count": 14,
      "outputs": []
    }
  ]
}