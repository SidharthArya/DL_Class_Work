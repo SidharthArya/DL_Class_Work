{
  "nbformat": 4,
  "nbformat_minor": 0,
  "metadata": {
    "colab": {
      "name": "006-Implementing-Gesture-Classifier-with-tensorflow.ipynb",
      "provenance": [],
      "collapsed_sections": [],
      "authorship_tag": "ABX9TyMU8xulxX+66ut8oYLBE++C",
      "include_colab_link": true
    },
    "kernelspec": {
      "name": "python3",
      "display_name": "Python 3"
    }
  },
  "cells": [
    {
      "cell_type": "markdown",
      "metadata": {
        "id": "view-in-github",
        "colab_type": "text"
      },
      "source": [
        "<a href=\"https://colab.research.google.com/github/SidharthArya/Deep_Learning_Class_Manit/blob/main/Lab/001_Implementing_Gesture_Classifier_with_tensorflow.ipynb\" target=\"_parent\"><img src=\"https://colab.research.google.com/assets/colab-badge.svg\" alt=\"Open In Colab\"/></a>"
      ]
    },
    {
      "cell_type": "code",
      "metadata": {
        "id": "7tK-uO50-wBz"
      },
      "source": [
        "import tensorflow as tf\n",
        "import numpy as np\n",
        "import pandas as pd\n",
        "from matplotlib import pyplot as plt\n",
        "import seaborn as sns\n",
        "from sklearn.model_selection import train_test_split\n"
      ],
      "execution_count": 103,
      "outputs": []
    },
    {
      "cell_type": "code",
      "metadata": {
        "id": "MEMEtYdf_wcF"
      },
      "source": [
        "\n",
        "jump = pd.read_csv(\"https://raw.githubusercontent.com/UNCG-DAISY/Tiny_Gesture/main/data/jump_set.csv\")\n",
        "run = pd.read_csv(\"https://raw.githubusercontent.com/UNCG-DAISY/Tiny_Gesture/main/data/run_set.csv\")\n",
        "squat = pd.read_csv(\"https://raw.githubusercontent.com/UNCG-DAISY/Tiny_Gesture/main/data/squat_set.csv\")\n",
        "walk = pd.read_csv(\"https://raw.githubusercontent.com/UNCG-DAISY/Tiny_Gesture/main/data/walk_set.csv\")\n",
        "other = pd.read_csv(\"https://raw.githubusercontent.com/UNCG-DAISY/Tiny_Gesture/main/data/other_set.csv\")"
      ],
      "execution_count": 104,
      "outputs": []
    },
    {
      "cell_type": "code",
      "metadata": {
        "colab": {
          "base_uri": "https://localhost:8080/"
        },
        "id": "axgsg3cAAPEJ",
        "outputId": "4af48753-acc8-4dcc-a437-59458fcaa41a"
      },
      "source": [
        "jump.shape"
      ],
      "execution_count": 105,
      "outputs": [
        {
          "output_type": "execute_result",
          "data": {
            "text/plain": [
              "(11900, 6)"
            ]
          },
          "metadata": {
            "tags": []
          },
          "execution_count": 105
        }
      ]
    },
    {
      "cell_type": "code",
      "metadata": {
        "colab": {
          "base_uri": "https://localhost:8080/"
        },
        "id": "ejf1V7WcARms",
        "outputId": "c7884011-fbb8-4934-9a1a-f9986e3ec40b"
      },
      "source": [
        "run.shape"
      ],
      "execution_count": 106,
      "outputs": [
        {
          "output_type": "execute_result",
          "data": {
            "text/plain": [
              "(11900, 6)"
            ]
          },
          "metadata": {
            "tags": []
          },
          "execution_count": 106
        }
      ]
    },
    {
      "cell_type": "markdown",
      "metadata": {
        "id": "z8vlqWXUDicw"
      },
      "source": [
        "## Data Preprocessing"
      ]
    },
    {
      "cell_type": "code",
      "metadata": {
        "id": "vrcuxX8rPTD8"
      },
      "source": [
        "GESTURES = [\n",
        "    \"squat_set\",\n",
        "    \"jump_set\",\n",
        "    \"walk_set\",\n",
        "    \"run_set\",\n",
        "    \"other_set\"]"
      ],
      "execution_count": 107,
      "outputs": []
    },
    {
      "cell_type": "code",
      "metadata": {
        "colab": {
          "base_uri": "https://localhost:8080/"
        },
        "id": "Qn9he0MDF9ma",
        "outputId": "fdf6d658-e365-47c5-837d-6e41b6755f63"
      },
      "source": [
        "SAMPLES_PER_GESTURE = 119\n",
        "\n",
        "NUM_GESTURES = len(GESTURES)\n",
        "\n",
        "# create a one-hot encoded matrix that is used in the output\n",
        "ONE_HOT_ENCODED_GESTURES = np.eye(NUM_GESTURES)\n",
        "dft = [ jump,run,squat,walk,other]\n",
        "inputs = []\n",
        "outputs = []\n",
        "\n",
        "# read each csv file and push an input and output\n",
        "for gesture_index in range(NUM_GESTURES):\n",
        "  gesture = GESTURES[gesture_index]\n",
        "  print(f\"Processing index {gesture_index} for gesture '{gesture}'.\")\n",
        "  \n",
        "  output = ONE_HOT_ENCODED_GESTURES[gesture_index]\n",
        "  print(output)\n",
        "  df = dft[gesture_index]\n",
        "  \n",
        "  # calculate the number of gesture recordings in the file\n",
        "  num_recordings = int(df.shape[0] / SAMPLES_PER_GESTURE)\n",
        "  \n",
        "  print(f\"\\tThere are {num_recordings} recordings of the {gesture} gesture.\")\n",
        "  \n",
        "  for i in range(num_recordings):\n",
        "    tensor = []\n",
        "    for j in range(SAMPLES_PER_GESTURE):\n",
        "      index = i * SAMPLES_PER_GESTURE + j\n",
        "      # normalize the input data, between 0 to 1:\n",
        "      # - acceleration is between: -4 to +4\n",
        "      # - gyroscope is between: -2000 to +2000\n",
        "      tensor += [\n",
        "          (df['aX'][index] + 4) / 8,\n",
        "          (df['aY'][index] + 4) / 8,\n",
        "          (df['aZ'][index] + 4) / 8,\n",
        "          (df['gX'][index] + 2000) / 4000,\n",
        "          (df['gY'][index] + 2000) / 4000,\n",
        "          (df['gZ'][index] + 2000) / 4000\n",
        "      ]\n",
        "\n",
        "    inputs.append(tensor)\n",
        "    outputs.append(output)\n",
        "# convert the list to numpy array\n",
        "inputs = np.array(inputs)\n",
        "outputs = np.array(outputs)\n",
        "\n",
        "print(\"Data set parsing and preparation complete.\")\n",
        "\n"
      ],
      "execution_count": 108,
      "outputs": [
        {
          "output_type": "stream",
          "text": [
            "Processing index 0 for gesture 'squat_set'.\n",
            "[1. 0. 0. 0. 0.]\n",
            "\tThere are 100 recordings of the squat_set gesture.\n",
            "Processing index 1 for gesture 'jump_set'.\n",
            "[0. 1. 0. 0. 0.]\n",
            "\tThere are 100 recordings of the jump_set gesture.\n",
            "Processing index 2 for gesture 'walk_set'.\n",
            "[0. 0. 1. 0. 0.]\n",
            "\tThere are 100 recordings of the walk_set gesture.\n",
            "Processing index 3 for gesture 'run_set'.\n",
            "[0. 0. 0. 1. 0.]\n",
            "\tThere are 100 recordings of the run_set gesture.\n",
            "Processing index 4 for gesture 'other_set'.\n",
            "[0. 0. 0. 0. 1.]\n",
            "\tThere are 100 recordings of the other_set gesture.\n",
            "Data set parsing and preparation complete.\n"
          ],
          "name": "stdout"
        }
      ]
    },
    {
      "cell_type": "code",
      "metadata": {
        "id": "UozmYlqKDmvx"
      },
      "source": [
        ""
      ],
      "execution_count": 108,
      "outputs": []
    },
    {
      "cell_type": "code",
      "metadata": {
        "id": "D5CKRlRJIEL4"
      },
      "source": [
        ""
      ],
      "execution_count": 108,
      "outputs": []
    },
    {
      "cell_type": "code",
      "metadata": {
        "id": "RWDZLvvXGNts"
      },
      "source": [
        ""
      ],
      "execution_count": 108,
      "outputs": []
    },
    {
      "cell_type": "code",
      "metadata": {
        "id": "s8ieebJMHyrD"
      },
      "source": [
        ""
      ],
      "execution_count": 108,
      "outputs": []
    },
    {
      "cell_type": "code",
      "metadata": {
        "id": "-F4yJ2eKLsQ7"
      },
      "source": [
        ""
      ],
      "execution_count": 108,
      "outputs": []
    },
    {
      "cell_type": "code",
      "metadata": {
        "id": "nVrxX9T1FAb5"
      },
      "source": [
        "input_shape=inputs[0].shape"
      ],
      "execution_count": 109,
      "outputs": []
    },
    {
      "cell_type": "code",
      "metadata": {
        "id": "wLQprHpPQE95"
      },
      "source": [
        ""
      ],
      "execution_count": 109,
      "outputs": []
    },
    {
      "cell_type": "code",
      "metadata": {
        "id": "Xs0pnnl6QH6c"
      },
      "source": [
        "X_train, X_test, y_train, y_test = train_test_split(inputs, outputs, test_size=0.2, random_state=42)"
      ],
      "execution_count": 110,
      "outputs": []
    },
    {
      "cell_type": "code",
      "metadata": {
        "id": "-r4zFlfaAprL"
      },
      "source": [
        "model = tf.keras.Sequential(\n",
        "      [\n",
        "       tf.keras.layers.Dense(512,input_shape=input_shape, activation=\"relu\"),\n",
        "       tf.keras.layers.Dense(256, activation='relu'),\n",
        "       tf.keras.layers.Dropout(.1),\n",
        "       tf.keras.layers.Dense(128, activation='relu'),\n",
        "       tf.keras.layers.Dense(64, activation='relu'),\n",
        "       tf.keras.layers.Dropout(.1),\n",
        "       tf.keras.layers.Flatten(),\n",
        "       tf.keras.layers.Dense(5,activation = \"sigmoid\")\n",
        "      ])\n",
        "\n"
      ],
      "execution_count": 111,
      "outputs": []
    },
    {
      "cell_type": "code",
      "metadata": {
        "id": "42gwqXftKUJ9"
      },
      "source": [
        "model.compile(optimizer=\"adam\",\n",
        "              loss = \"categorical_crossentropy\",\n",
        "              metrics = [\"accuracy\"])"
      ],
      "execution_count": 112,
      "outputs": []
    },
    {
      "cell_type": "code",
      "metadata": {
        "colab": {
          "base_uri": "https://localhost:8080/"
        },
        "id": "jP3UHeYQLG2k",
        "outputId": "46d4e35c-c576-46dd-a190-8405aeaaaf3a"
      },
      "source": [
        "model.summary()"
      ],
      "execution_count": 113,
      "outputs": [
        {
          "output_type": "stream",
          "text": [
            "Model: \"sequential_2\"\n",
            "_________________________________________________________________\n",
            "Layer (type)                 Output Shape              Param #   \n",
            "=================================================================\n",
            "dense_14 (Dense)             (None, 512)               366080    \n",
            "_________________________________________________________________\n",
            "dense_15 (Dense)             (None, 256)               131328    \n",
            "_________________________________________________________________\n",
            "dropout_6 (Dropout)          (None, 256)               0         \n",
            "_________________________________________________________________\n",
            "dense_16 (Dense)             (None, 128)               32896     \n",
            "_________________________________________________________________\n",
            "dense_17 (Dense)             (None, 64)                8256      \n",
            "_________________________________________________________________\n",
            "dropout_7 (Dropout)          (None, 64)                0         \n",
            "_________________________________________________________________\n",
            "flatten_3 (Flatten)          (None, 64)                0         \n",
            "_________________________________________________________________\n",
            "dense_18 (Dense)             (None, 5)                 325       \n",
            "=================================================================\n",
            "Total params: 538,885\n",
            "Trainable params: 538,885\n",
            "Non-trainable params: 0\n",
            "_________________________________________________________________\n"
          ],
          "name": "stdout"
        }
      ]
    },
    {
      "cell_type": "code",
      "metadata": {
        "colab": {
          "base_uri": "https://localhost:8080/"
        },
        "id": "QEytcZl3LP6R",
        "outputId": "9e4fce03-d955-4954-dd9b-f3d813bcf9f4"
      },
      "source": [
        "model.fit(X_train, y_train,\n",
        "          epochs = 10,\n",
        "          validation_split = 0.2,\n",
        "          batch_size=10,\n",
        "          verbose=True)"
      ],
      "execution_count": 114,
      "outputs": [
        {
          "output_type": "stream",
          "text": [
            "Epoch 1/10\n",
            "32/32 [==============================] - 1s 12ms/step - loss: 1.7221 - accuracy: 0.1802 - val_loss: 1.6189 - val_accuracy: 0.1875\n",
            "Epoch 2/10\n",
            "32/32 [==============================] - 0s 7ms/step - loss: 1.6182 - accuracy: 0.2013 - val_loss: 1.6509 - val_accuracy: 0.1625\n",
            "Epoch 3/10\n",
            "32/32 [==============================] - 0s 7ms/step - loss: 1.6386 - accuracy: 0.1741 - val_loss: 1.6666 - val_accuracy: 0.1875\n",
            "Epoch 4/10\n",
            "32/32 [==============================] - 0s 7ms/step - loss: 1.6112 - accuracy: 0.2293 - val_loss: 1.6140 - val_accuracy: 0.1625\n",
            "Epoch 5/10\n",
            "32/32 [==============================] - 0s 7ms/step - loss: 1.6100 - accuracy: 0.2186 - val_loss: 1.6351 - val_accuracy: 0.2250\n",
            "Epoch 6/10\n",
            "32/32 [==============================] - 0s 6ms/step - loss: 1.5816 - accuracy: 0.2653 - val_loss: 1.5865 - val_accuracy: 0.1875\n",
            "Epoch 7/10\n",
            "32/32 [==============================] - 0s 7ms/step - loss: 1.5892 - accuracy: 0.2253 - val_loss: 1.5330 - val_accuracy: 0.4000\n",
            "Epoch 8/10\n",
            "32/32 [==============================] - 0s 6ms/step - loss: 1.5900 - accuracy: 0.2630 - val_loss: 1.5364 - val_accuracy: 0.3375\n",
            "Epoch 9/10\n",
            "32/32 [==============================] - 0s 6ms/step - loss: 1.5069 - accuracy: 0.3877 - val_loss: 1.4292 - val_accuracy: 0.3625\n",
            "Epoch 10/10\n",
            "32/32 [==============================] - 0s 7ms/step - loss: 1.4075 - accuracy: 0.3800 - val_loss: 1.3067 - val_accuracy: 0.3250\n"
          ],
          "name": "stdout"
        },
        {
          "output_type": "execute_result",
          "data": {
            "text/plain": [
              "<tensorflow.python.keras.callbacks.History at 0x7feecdf9f278>"
            ]
          },
          "metadata": {
            "tags": []
          },
          "execution_count": 114
        }
      ]
    },
    {
      "cell_type": "code",
      "metadata": {
        "id": "B8XhZt-5Qj5F"
      },
      "source": [
        "predictions = model.predict(X_test)"
      ],
      "execution_count": 115,
      "outputs": []
    },
    {
      "cell_type": "code",
      "metadata": {
        "colab": {
          "base_uri": "https://localhost:8080/",
          "height": 311
        },
        "id": "oyQ8_WTtP7ny",
        "outputId": "bbd4ae23-eb25-4afe-8c51-69f7b046f517"
      },
      "source": [
        "cm = tf.math.confusion_matrix(labels=tf.argmax(y_test, 1), predictions=tf.argmax(predictions, 1))\n",
        "axis_labels = [\"Squat\", \"Jump\", \"Walk\", \"Run\", \"Other\"]\n",
        "figure = plt.figure(figsize=(6, 4))\n",
        "sns.heatmap(cm, annot=True,cmap=plt.cm.Blues,xticklabels=axis_labels, yticklabels=axis_labels)\n",
        "plt.ylim(len(cm)-0, 0)\n",
        "plt.tight_layout()\n",
        "plt.ylabel('True label')\n",
        "plt.xlabel('Predicted label')\n",
        "plt.show()"
      ],
      "execution_count": 116,
      "outputs": [
        {
          "output_type": "display_data",
          "data": {
            "image/png": "[encoded data removed]",
            "text/plain": [
              "<Figure size 432x288 with 2 Axes>"
            ]
          },
          "metadata": {
            "tags": [],
            "needs_background": "light"
          }
        }
      ]
    },
    {
      "cell_type": "code",
      "metadata": {
        "id": "OCzoxeXYQX-k"
      },
      "source": [
        ""
      ],
      "execution_count": 116,
      "outputs": []
    },
    {
      "cell_type": "code",
      "metadata": {
        "id": "AiVou7AFQrPP"
      },
      "source": [
        ""
      ],
      "execution_count": 116,
      "outputs": []
    }
  ]
}