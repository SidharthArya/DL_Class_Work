{
  "nbformat": 4,
  "nbformat_minor": 0,
  "metadata": {
    "colab": {
      "name": "006-Implementing-Gesture-Classifier-with-tensorflow.ipynb",
      "provenance": [],
      "collapsed_sections": [],
      "authorship_tag": "ABX9TyO0eMEcB0h1PrYf/+uCBl/u",
      "include_colab_link": true
    },
    "kernelspec": {
      "name": "python3",
      "display_name": "Python 3"
    }
  },
  "cells": [
    {
      "cell_type": "markdown",
      "metadata": {
        "id": "view-in-github",
        "colab_type": "text"
      },
      "source": [
        "<a href=\"https://colab.research.google.com/github/SidharthArya/Deep_Learning_Class_Manit/blob/main/Lab/001_Implementing_Gesture_Classifier_with_tensorflow.ipynb\" target=\"_parent\"><img src=\"https://colab.research.google.com/assets/colab-badge.svg\" alt=\"Open In Colab\"/></a>"
      ]
    },
    {
      "cell_type": "code",
      "metadata": {
        "id": "7tK-uO50-wBz"
      },
      "source": [
        "import tensorflow as tf\n",
        "import numpy as np\n",
        "import pandas as pd\n",
        "from matplotlib import pyplot as plt\n",
        "import seaborn as sns\n",
        "from sklearn.model_selection import train_test_split\n"
      ],
      "execution_count": 4,
      "outputs": []
    },
    {
      "cell_type": "code",
      "metadata": {
        "id": "MEMEtYdf_wcF"
      },
      "source": [
        "\n",
        "jump = pd.read_csv(\"https://raw.githubusercontent.com/UNCG-DAISY/Tiny_Gesture/main/data/jump_set.csv\")\n",
        "run = pd.read_csv(\"https://raw.githubusercontent.com/UNCG-DAISY/Tiny_Gesture/main/data/run_set.csv\")\n",
        "squat = pd.read_csv(\"https://raw.githubusercontent.com/UNCG-DAISY/Tiny_Gesture/main/data/squat_set.csv\")\n",
        "walk = pd.read_csv(\"https://raw.githubusercontent.com/UNCG-DAISY/Tiny_Gesture/main/data/walk_set.csv\")\n",
        "other = pd.read_csv(\"https://raw.githubusercontent.com/UNCG-DAISY/Tiny_Gesture/main/data/other_set.csv\")"
      ],
      "execution_count": 5,
      "outputs": []
    },
    {
      "cell_type": "code",
      "metadata": {
        "colab": {
          "base_uri": "https://localhost:8080/"
        },
        "id": "axgsg3cAAPEJ",
        "outputId": "7fdac247-90a1-43ad-d7fc-c39e1d5c5f06"
      },
      "source": [
        "jump.shape"
      ],
      "execution_count": 6,
      "outputs": [
        {
          "output_type": "execute_result",
          "data": {
            "text/plain": [
              "(11900, 6)"
            ]
          },
          "metadata": {
            "tags": []
          },
          "execution_count": 6
        }
      ]
    },
    {
      "cell_type": "code",
      "metadata": {
        "colab": {
          "base_uri": "https://localhost:8080/"
        },
        "id": "ejf1V7WcARms",
        "outputId": "b5eb310e-2f93-4c9e-b4b6-c71df2b2be36"
      },
      "source": [
        "run.shape"
      ],
      "execution_count": 7,
      "outputs": [
        {
          "output_type": "execute_result",
          "data": {
            "text/plain": [
              "(11900, 6)"
            ]
          },
          "metadata": {
            "tags": []
          },
          "execution_count": 7
        }
      ]
    },
    {
      "cell_type": "markdown",
      "metadata": {
        "id": "z8vlqWXUDicw"
      },
      "source": [
        "## Data Preprocessing"
      ]
    },
    {
      "cell_type": "code",
      "metadata": {
        "id": "vrcuxX8rPTD8"
      },
      "source": [
        "GESTURES = [   \n",
        "    \"jump_set\",\n",
        "    \"squat_set\",\n",
        "    \"run_set\",\n",
        "    \"walk_set\",\n",
        "    \"other_set\"]"
      ],
      "execution_count": 8,
      "outputs": []
    },
    {
      "cell_type": "code",
      "metadata": {
        "colab": {
          "base_uri": "https://localhost:8080/"
        },
        "id": "Qn9he0MDF9ma",
        "outputId": "4952fc0b-f579-4f25-b581-fe5152039d50"
      },
      "source": [
        "SAMPLES_PER_GESTURE = 119\n",
        "\n",
        "NUM_GESTURES = len(GESTURES)\n",
        "\n",
        "# create a one-hot encoded matrix that is used in the output\n",
        "ONE_HOT_ENCODED_GESTURES = np.eye(NUM_GESTURES)\n",
        "dft = [ jump,run,squat,walk,other]\n",
        "inputs = []\n",
        "outputs = []\n",
        "\n",
        "# read each csv file and push an input and output\n",
        "for gesture_index in range(NUM_GESTURES):\n",
        "  gesture = GESTURES[gesture_index]\n",
        "  print(f\"Processing index {gesture_index} for gesture '{gesture}'.\")\n",
        "  \n",
        "  output = ONE_HOT_ENCODED_GESTURES[gesture_index]\n",
        "  print(output)\n",
        "  df = dft[gesture_index]\n",
        "  \n",
        "  # calculate the number of gesture recordings in the file\n",
        "  num_recordings = int(df.shape[0] / SAMPLES_PER_GESTURE)\n",
        "  \n",
        "  print(f\"\\tThere are {num_recordings} recordings of the {gesture} gesture.\")\n",
        "  \n",
        "  for i in range(num_recordings):\n",
        "    tensor = []\n",
        "    for j in range(SAMPLES_PER_GESTURE):\n",
        "      index = i * SAMPLES_PER_GESTURE + j\n",
        "      # normalize the input data, between 0 to 1:\n",
        "      # - acceleration is between: -4 to +4\n",
        "      # - gyroscope is between: -2000 to +2000\n",
        "      tensor += [\n",
        "          (df['aX'][index] + 4) / 8,\n",
        "          (df['aY'][index] + 4) / 8,\n",
        "          (df['aZ'][index] + 4) / 8,\n",
        "          (df['gX'][index] + 2000) / 4000,\n",
        "          (df['gY'][index] + 2000) / 4000,\n",
        "          (df['gZ'][index] + 2000) / 4000\n",
        "      ]\n",
        "\n",
        "    inputs.append(tensor)\n",
        "    outputs.append(output)\n",
        "# convert the list to numpy array\n",
        "inputs = np.array(inputs)\n",
        "outputs = np.array(outputs)\n",
        "\n",
        "print(\"Data set parsing and preparation complete.\")\n",
        "\n"
      ],
      "execution_count": 9,
      "outputs": [
        {
          "output_type": "stream",
          "text": [
            "Processing index 0 for gesture 'jump_set'.\n",
            "[1. 0. 0. 0. 0.]\n",
            "\tThere are 100 recordings of the jump_set gesture.\n",
            "Processing index 1 for gesture 'squat_set'.\n",
            "[0. 1. 0. 0. 0.]\n",
            "\tThere are 100 recordings of the squat_set gesture.\n",
            "Processing index 2 for gesture 'run_set'.\n",
            "[0. 0. 1. 0. 0.]\n",
            "\tThere are 100 recordings of the run_set gesture.\n",
            "Processing index 3 for gesture 'walk_set'.\n",
            "[0. 0. 0. 1. 0.]\n",
            "\tThere are 100 recordings of the walk_set gesture.\n",
            "Processing index 4 for gesture 'other_set'.\n",
            "[0. 0. 0. 0. 1.]\n",
            "\tThere are 100 recordings of the other_set gesture.\n",
            "Data set parsing and preparation complete.\n"
          ],
          "name": "stdout"
        }
      ]
    },
    {
      "cell_type": "code",
      "metadata": {
        "id": "nVrxX9T1FAb5"
      },
      "source": [
        "input_shape=inputs[0].shape"
      ],
      "execution_count": 10,
      "outputs": []
    },
    {
      "cell_type": "code",
      "metadata": {
        "id": "Xs0pnnl6QH6c"
      },
      "source": [
        "X_train, X_test, y_train, y_test = train_test_split(inputs, outputs, test_size=0.2, random_state=42)"
      ],
      "execution_count": 11,
      "outputs": []
    },
    {
      "cell_type": "code",
      "metadata": {
        "id": "-r4zFlfaAprL"
      },
      "source": [
        "model = tf.keras.Sequential(\n",
        "      [\n",
        "       tf.keras.layers.Dense(512,input_shape=input_shape, activation=\"relu\"),\n",
        "       tf.keras.layers.Dense(256, activation='relu'),\n",
        "       tf.keras.layers.Dropout(.1),\n",
        "       tf.keras.layers.Dense(128, activation='relu'),\n",
        "       tf.keras.layers.Dense(64, activation='relu'),\n",
        "       tf.keras.layers.Dropout(.1),\n",
        "       tf.keras.layers.Flatten(),\n",
        "       tf.keras.layers.Dense(5,activation = \"sigmoid\")\n",
        "      ])\n",
        "\n"
      ],
      "execution_count": 12,
      "outputs": []
    },
    {
      "cell_type": "code",
      "metadata": {
        "id": "42gwqXftKUJ9"
      },
      "source": [
        "model.compile(optimizer=\"adam\",\n",
        "              loss = \"categorical_crossentropy\",\n",
        "              metrics = [\"accuracy\"])"
      ],
      "execution_count": 13,
      "outputs": []
    },
    {
      "cell_type": "code",
      "metadata": {
        "colab": {
          "base_uri": "https://localhost:8080/"
        },
        "id": "jP3UHeYQLG2k",
        "outputId": "e748f16b-68f5-48ba-a67b-786d2bd7d82e"
      },
      "source": [
        "model.summary()"
      ],
      "execution_count": 14,
      "outputs": [
        {
          "output_type": "stream",
          "text": [
            "Model: \"sequential\"\n",
            "_________________________________________________________________\n",
            "Layer (type)                 Output Shape              Param #   \n",
            "=================================================================\n",
            "dense (Dense)                (None, 512)               366080    \n",
            "_________________________________________________________________\n",
            "dense_1 (Dense)              (None, 256)               131328    \n",
            "_________________________________________________________________\n",
            "dropout (Dropout)            (None, 256)               0         \n",
            "_________________________________________________________________\n",
            "dense_2 (Dense)              (None, 128)               32896     \n",
            "_________________________________________________________________\n",
            "dense_3 (Dense)              (None, 64)                8256      \n",
            "_________________________________________________________________\n",
            "dropout_1 (Dropout)          (None, 64)                0         \n",
            "_________________________________________________________________\n",
            "flatten (Flatten)            (None, 64)                0         \n",
            "_________________________________________________________________\n",
            "dense_4 (Dense)              (None, 5)                 325       \n",
            "=================================================================\n",
            "Total params: 538,885\n",
            "Trainable params: 538,885\n",
            "Non-trainable params: 0\n",
            "_________________________________________________________________\n"
          ],
          "name": "stdout"
        }
      ]
    },
    {
      "cell_type": "code",
      "metadata": {
        "colab": {
          "base_uri": "https://localhost:8080/"
        },
        "id": "QEytcZl3LP6R",
        "outputId": "560dfc2c-ae96-4576-9778-0256cb355ab6"
      },
      "source": [
        "model.fit(X_train, y_train,\n",
        "          epochs = 100,\n",
        "          validation_split = 0.2,\n",
        "          batch_size=10,\n",
        "          verbose=True)"
      ],
      "execution_count": 15,
      "outputs": [
        {
          "output_type": "stream",
          "text": [
            "Epoch 1/100\n",
            "32/32 [==============================] - 1s 17ms/step - loss: 1.7281 - accuracy: 0.2332 - val_loss: 1.7717 - val_accuracy: 0.1875\n",
            "Epoch 2/100\n",
            "32/32 [==============================] - 0s 6ms/step - loss: 1.6706 - accuracy: 0.1666 - val_loss: 1.6306 - val_accuracy: 0.1875\n",
            "Epoch 3/100\n",
            "32/32 [==============================] - 0s 6ms/step - loss: 1.6160 - accuracy: 0.2116 - val_loss: 1.6317 - val_accuracy: 0.1625\n",
            "Epoch 4/100\n",
            "32/32 [==============================] - 0s 6ms/step - loss: 1.6114 - accuracy: 0.2482 - val_loss: 1.6220 - val_accuracy: 0.1875\n",
            "Epoch 5/100\n",
            "32/32 [==============================] - 0s 6ms/step - loss: 1.6039 - accuracy: 0.2658 - val_loss: 1.6137 - val_accuracy: 0.1875\n",
            "Epoch 6/100\n",
            "32/32 [==============================] - 0s 6ms/step - loss: 1.6074 - accuracy: 0.2807 - val_loss: 1.6122 - val_accuracy: 0.1875\n",
            "Epoch 7/100\n",
            "32/32 [==============================] - 0s 6ms/step - loss: 1.6011 - accuracy: 0.2467 - val_loss: 1.6095 - val_accuracy: 0.1625\n",
            "Epoch 8/100\n",
            "32/32 [==============================] - 0s 6ms/step - loss: 1.5990 - accuracy: 0.2439 - val_loss: 1.5903 - val_accuracy: 0.1625\n",
            "Epoch 9/100\n",
            "32/32 [==============================] - 0s 7ms/step - loss: 1.5658 - accuracy: 0.3163 - val_loss: 1.4613 - val_accuracy: 0.3875\n",
            "Epoch 10/100\n",
            "32/32 [==============================] - 0s 6ms/step - loss: 1.4775 - accuracy: 0.3513 - val_loss: 1.2533 - val_accuracy: 0.5250\n",
            "Epoch 11/100\n",
            "32/32 [==============================] - 0s 6ms/step - loss: 1.4272 - accuracy: 0.3624 - val_loss: 1.2495 - val_accuracy: 0.5000\n",
            "Epoch 12/100\n",
            "32/32 [==============================] - 0s 10ms/step - loss: 1.2999 - accuracy: 0.4897 - val_loss: 1.1731 - val_accuracy: 0.4375\n",
            "Epoch 13/100\n",
            "32/32 [==============================] - 0s 7ms/step - loss: 1.1891 - accuracy: 0.4473 - val_loss: 1.3056 - val_accuracy: 0.3625\n",
            "Epoch 14/100\n",
            "32/32 [==============================] - 0s 6ms/step - loss: 1.5920 - accuracy: 0.2330 - val_loss: 1.5836 - val_accuracy: 0.1875\n",
            "Epoch 15/100\n",
            "32/32 [==============================] - 0s 6ms/step - loss: 1.4630 - accuracy: 0.2990 - val_loss: 1.2061 - val_accuracy: 0.5250\n",
            "Epoch 16/100\n",
            "32/32 [==============================] - 0s 6ms/step - loss: 1.1718 - accuracy: 0.5600 - val_loss: 0.9782 - val_accuracy: 0.5750\n",
            "Epoch 17/100\n",
            "32/32 [==============================] - 0s 6ms/step - loss: 1.0816 - accuracy: 0.5272 - val_loss: 1.2158 - val_accuracy: 0.3875\n",
            "Epoch 18/100\n",
            "32/32 [==============================] - 0s 6ms/step - loss: 1.1120 - accuracy: 0.5050 - val_loss: 0.9499 - val_accuracy: 0.5750\n",
            "Epoch 19/100\n",
            "32/32 [==============================] - 0s 6ms/step - loss: 0.9294 - accuracy: 0.6052 - val_loss: 0.8510 - val_accuracy: 0.6750\n",
            "Epoch 20/100\n",
            "32/32 [==============================] - 0s 6ms/step - loss: 0.8773 - accuracy: 0.6002 - val_loss: 1.3962 - val_accuracy: 0.3500\n",
            "Epoch 21/100\n",
            "32/32 [==============================] - 0s 6ms/step - loss: 0.9587 - accuracy: 0.5368 - val_loss: 0.7802 - val_accuracy: 0.7250\n",
            "Epoch 22/100\n",
            "32/32 [==============================] - 0s 6ms/step - loss: 0.7856 - accuracy: 0.6621 - val_loss: 0.8250 - val_accuracy: 0.6250\n",
            "Epoch 23/100\n",
            "32/32 [==============================] - 0s 6ms/step - loss: 0.7926 - accuracy: 0.6213 - val_loss: 0.7220 - val_accuracy: 0.7125\n",
            "Epoch 24/100\n",
            "32/32 [==============================] - 0s 6ms/step - loss: 0.7035 - accuracy: 0.6864 - val_loss: 0.8128 - val_accuracy: 0.6000\n",
            "Epoch 25/100\n",
            "32/32 [==============================] - 0s 6ms/step - loss: 0.7499 - accuracy: 0.6668 - val_loss: 0.7355 - val_accuracy: 0.6375\n",
            "Epoch 26/100\n",
            "32/32 [==============================] - 0s 6ms/step - loss: 0.7992 - accuracy: 0.6470 - val_loss: 0.8717 - val_accuracy: 0.6500\n",
            "Epoch 27/100\n",
            "32/32 [==============================] - 0s 6ms/step - loss: 0.8594 - accuracy: 0.6316 - val_loss: 0.7534 - val_accuracy: 0.6500\n",
            "Epoch 28/100\n",
            "32/32 [==============================] - 0s 6ms/step - loss: 0.7141 - accuracy: 0.6479 - val_loss: 0.7307 - val_accuracy: 0.6625\n",
            "Epoch 29/100\n",
            "32/32 [==============================] - 0s 6ms/step - loss: 0.7407 - accuracy: 0.6790 - val_loss: 0.7087 - val_accuracy: 0.6500\n",
            "Epoch 30/100\n",
            "32/32 [==============================] - 0s 7ms/step - loss: 0.7325 - accuracy: 0.6599 - val_loss: 0.7892 - val_accuracy: 0.6000\n",
            "Epoch 31/100\n",
            "32/32 [==============================] - 0s 6ms/step - loss: 0.7411 - accuracy: 0.6715 - val_loss: 0.6917 - val_accuracy: 0.6875\n",
            "Epoch 32/100\n",
            "32/32 [==============================] - 0s 6ms/step - loss: 0.6532 - accuracy: 0.7137 - val_loss: 0.7400 - val_accuracy: 0.6625\n",
            "Epoch 33/100\n",
            "32/32 [==============================] - 0s 6ms/step - loss: 0.7356 - accuracy: 0.6729 - val_loss: 1.1634 - val_accuracy: 0.3875\n",
            "Epoch 34/100\n",
            "32/32 [==============================] - 0s 6ms/step - loss: 0.9200 - accuracy: 0.5574 - val_loss: 0.6981 - val_accuracy: 0.6750\n",
            "Epoch 35/100\n",
            "32/32 [==============================] - 0s 6ms/step - loss: 0.6440 - accuracy: 0.6993 - val_loss: 0.6428 - val_accuracy: 0.7375\n",
            "Epoch 36/100\n",
            "32/32 [==============================] - 0s 6ms/step - loss: 0.8363 - accuracy: 0.6097 - val_loss: 0.7195 - val_accuracy: 0.6125\n",
            "Epoch 37/100\n",
            "32/32 [==============================] - 0s 6ms/step - loss: 0.6595 - accuracy: 0.6666 - val_loss: 0.6971 - val_accuracy: 0.6750\n",
            "Epoch 38/100\n",
            "32/32 [==============================] - 0s 6ms/step - loss: 0.6376 - accuracy: 0.7072 - val_loss: 1.0424 - val_accuracy: 0.6500\n",
            "Epoch 39/100\n",
            "32/32 [==============================] - 0s 6ms/step - loss: 0.9560 - accuracy: 0.5682 - val_loss: 0.8431 - val_accuracy: 0.6250\n",
            "Epoch 40/100\n",
            "32/32 [==============================] - 0s 7ms/step - loss: 0.6340 - accuracy: 0.7268 - val_loss: 0.6519 - val_accuracy: 0.7375\n",
            "Epoch 41/100\n",
            "32/32 [==============================] - 0s 7ms/step - loss: 0.7717 - accuracy: 0.6783 - val_loss: 0.8254 - val_accuracy: 0.6875\n",
            "Epoch 42/100\n",
            "32/32 [==============================] - 0s 6ms/step - loss: 0.6734 - accuracy: 0.6999 - val_loss: 0.6472 - val_accuracy: 0.7125\n",
            "Epoch 43/100\n",
            "32/32 [==============================] - 0s 6ms/step - loss: 0.5612 - accuracy: 0.7817 - val_loss: 0.8813 - val_accuracy: 0.6375\n",
            "Epoch 44/100\n",
            "32/32 [==============================] - 0s 6ms/step - loss: 0.6822 - accuracy: 0.7261 - val_loss: 0.7932 - val_accuracy: 0.6750\n",
            "Epoch 45/100\n",
            "32/32 [==============================] - 0s 6ms/step - loss: 0.6220 - accuracy: 0.7105 - val_loss: 0.7350 - val_accuracy: 0.6750\n",
            "Epoch 46/100\n",
            "32/32 [==============================] - 0s 6ms/step - loss: 0.5414 - accuracy: 0.7522 - val_loss: 0.6055 - val_accuracy: 0.7125\n",
            "Epoch 47/100\n",
            "32/32 [==============================] - 0s 7ms/step - loss: 0.5530 - accuracy: 0.7599 - val_loss: 0.5972 - val_accuracy: 0.7250\n",
            "Epoch 48/100\n",
            "32/32 [==============================] - 0s 6ms/step - loss: 0.5129 - accuracy: 0.7724 - val_loss: 0.7614 - val_accuracy: 0.7125\n",
            "Epoch 49/100\n",
            "32/32 [==============================] - 0s 6ms/step - loss: 0.5343 - accuracy: 0.7564 - val_loss: 1.3713 - val_accuracy: 0.4625\n",
            "Epoch 50/100\n",
            "32/32 [==============================] - 0s 6ms/step - loss: 1.0993 - accuracy: 0.5885 - val_loss: 0.7516 - val_accuracy: 0.6125\n",
            "Epoch 51/100\n",
            "32/32 [==============================] - 0s 6ms/step - loss: 0.7051 - accuracy: 0.6324 - val_loss: 0.6403 - val_accuracy: 0.7250\n",
            "Epoch 52/100\n",
            "32/32 [==============================] - 0s 7ms/step - loss: 0.7313 - accuracy: 0.6448 - val_loss: 1.0398 - val_accuracy: 0.6375\n",
            "Epoch 53/100\n",
            "32/32 [==============================] - 0s 6ms/step - loss: 0.6446 - accuracy: 0.7500 - val_loss: 1.1513 - val_accuracy: 0.6125\n",
            "Epoch 54/100\n",
            "32/32 [==============================] - 0s 6ms/step - loss: 0.6181 - accuracy: 0.7245 - val_loss: 0.6296 - val_accuracy: 0.7125\n",
            "Epoch 55/100\n",
            "32/32 [==============================] - 0s 6ms/step - loss: 0.5477 - accuracy: 0.7239 - val_loss: 0.5890 - val_accuracy: 0.7375\n",
            "Epoch 56/100\n",
            "32/32 [==============================] - 0s 6ms/step - loss: 0.5480 - accuracy: 0.7539 - val_loss: 0.6091 - val_accuracy: 0.7250\n",
            "Epoch 57/100\n",
            "32/32 [==============================] - 0s 6ms/step - loss: 0.7474 - accuracy: 0.6755 - val_loss: 0.6126 - val_accuracy: 0.7250\n",
            "Epoch 58/100\n",
            "32/32 [==============================] - 0s 6ms/step - loss: 0.6015 - accuracy: 0.7317 - val_loss: 0.6394 - val_accuracy: 0.7250\n",
            "Epoch 59/100\n",
            "32/32 [==============================] - 0s 6ms/step - loss: 0.4894 - accuracy: 0.7839 - val_loss: 0.6562 - val_accuracy: 0.6750\n",
            "Epoch 60/100\n",
            "32/32 [==============================] - 0s 6ms/step - loss: 0.7855 - accuracy: 0.6875 - val_loss: 0.6842 - val_accuracy: 0.7500\n",
            "Epoch 61/100\n",
            "32/32 [==============================] - 0s 6ms/step - loss: 0.5700 - accuracy: 0.7669 - val_loss: 0.6429 - val_accuracy: 0.6875\n",
            "Epoch 62/100\n",
            "32/32 [==============================] - 0s 7ms/step - loss: 0.6898 - accuracy: 0.6947 - val_loss: 0.6464 - val_accuracy: 0.7500\n",
            "Epoch 63/100\n",
            "32/32 [==============================] - 0s 6ms/step - loss: 0.5626 - accuracy: 0.7507 - val_loss: 0.6244 - val_accuracy: 0.7125\n",
            "Epoch 64/100\n",
            "32/32 [==============================] - 0s 7ms/step - loss: 0.5113 - accuracy: 0.7453 - val_loss: 0.8900 - val_accuracy: 0.6750\n",
            "Epoch 65/100\n",
            "32/32 [==============================] - 0s 7ms/step - loss: 0.6100 - accuracy: 0.7067 - val_loss: 1.4819 - val_accuracy: 0.5250\n",
            "Epoch 66/100\n",
            "32/32 [==============================] - 0s 10ms/step - loss: 0.6019 - accuracy: 0.7499 - val_loss: 0.5929 - val_accuracy: 0.7250\n",
            "Epoch 67/100\n",
            "32/32 [==============================] - 0s 6ms/step - loss: 0.5662 - accuracy: 0.7578 - val_loss: 0.6071 - val_accuracy: 0.7375\n",
            "Epoch 68/100\n",
            "32/32 [==============================] - 0s 7ms/step - loss: 0.7746 - accuracy: 0.6609 - val_loss: 0.8366 - val_accuracy: 0.6750\n",
            "Epoch 69/100\n",
            "32/32 [==============================] - 0s 6ms/step - loss: 0.6176 - accuracy: 0.7246 - val_loss: 0.7232 - val_accuracy: 0.6875\n",
            "Epoch 70/100\n",
            "32/32 [==============================] - 0s 7ms/step - loss: 0.4970 - accuracy: 0.7472 - val_loss: 0.5899 - val_accuracy: 0.7250\n",
            "Epoch 71/100\n",
            "32/32 [==============================] - 0s 6ms/step - loss: 0.4960 - accuracy: 0.7906 - val_loss: 0.6451 - val_accuracy: 0.6750\n",
            "Epoch 72/100\n",
            "32/32 [==============================] - 0s 6ms/step - loss: 0.5694 - accuracy: 0.7419 - val_loss: 1.1154 - val_accuracy: 0.4500\n",
            "Epoch 73/100\n",
            "32/32 [==============================] - 0s 7ms/step - loss: 0.6645 - accuracy: 0.7007 - val_loss: 0.6086 - val_accuracy: 0.7375\n",
            "Epoch 74/100\n",
            "32/32 [==============================] - 0s 7ms/step - loss: 0.4860 - accuracy: 0.7784 - val_loss: 0.5937 - val_accuracy: 0.7125\n",
            "Epoch 75/100\n",
            "32/32 [==============================] - 0s 6ms/step - loss: 0.5775 - accuracy: 0.7328 - val_loss: 0.8026 - val_accuracy: 0.7125\n",
            "Epoch 76/100\n",
            "32/32 [==============================] - 0s 6ms/step - loss: 0.5323 - accuracy: 0.7694 - val_loss: 1.1843 - val_accuracy: 0.6500\n",
            "Epoch 77/100\n",
            "32/32 [==============================] - 0s 7ms/step - loss: 0.6883 - accuracy: 0.6922 - val_loss: 0.6076 - val_accuracy: 0.7375\n",
            "Epoch 78/100\n",
            "32/32 [==============================] - 0s 6ms/step - loss: 0.4871 - accuracy: 0.8086 - val_loss: 0.6820 - val_accuracy: 0.7375\n",
            "Epoch 79/100\n",
            "32/32 [==============================] - 0s 7ms/step - loss: 0.4582 - accuracy: 0.8107 - val_loss: 0.5787 - val_accuracy: 0.7500\n",
            "Epoch 80/100\n",
            "32/32 [==============================] - 0s 6ms/step - loss: 0.7048 - accuracy: 0.6719 - val_loss: 1.1867 - val_accuracy: 0.4000\n",
            "Epoch 81/100\n",
            "32/32 [==============================] - 0s 6ms/step - loss: 0.6960 - accuracy: 0.6699 - val_loss: 0.6291 - val_accuracy: 0.7375\n",
            "Epoch 82/100\n",
            "32/32 [==============================] - 0s 7ms/step - loss: 0.5389 - accuracy: 0.7655 - val_loss: 0.5923 - val_accuracy: 0.7375\n",
            "Epoch 83/100\n",
            "32/32 [==============================] - 0s 6ms/step - loss: 0.5316 - accuracy: 0.7939 - val_loss: 0.5935 - val_accuracy: 0.7500\n",
            "Epoch 84/100\n",
            "32/32 [==============================] - 0s 6ms/step - loss: 0.4782 - accuracy: 0.7782 - val_loss: 0.6579 - val_accuracy: 0.7625\n",
            "Epoch 85/100\n",
            "32/32 [==============================] - 0s 7ms/step - loss: 0.4742 - accuracy: 0.7931 - val_loss: 0.5925 - val_accuracy: 0.7375\n",
            "Epoch 86/100\n",
            "32/32 [==============================] - 0s 6ms/step - loss: 0.5607 - accuracy: 0.7530 - val_loss: 0.6825 - val_accuracy: 0.6750\n",
            "Epoch 87/100\n",
            "32/32 [==============================] - 0s 6ms/step - loss: 0.5053 - accuracy: 0.7953 - val_loss: 0.6974 - val_accuracy: 0.6375\n",
            "Epoch 88/100\n",
            "32/32 [==============================] - 0s 6ms/step - loss: 0.5565 - accuracy: 0.7265 - val_loss: 0.5611 - val_accuracy: 0.7250\n",
            "Epoch 89/100\n",
            "32/32 [==============================] - 0s 6ms/step - loss: 0.4642 - accuracy: 0.7943 - val_loss: 1.0315 - val_accuracy: 0.6750\n",
            "Epoch 90/100\n",
            "32/32 [==============================] - 0s 7ms/step - loss: 1.0617 - accuracy: 0.5982 - val_loss: 0.6250 - val_accuracy: 0.7625\n",
            "Epoch 91/100\n",
            "32/32 [==============================] - 0s 6ms/step - loss: 0.5878 - accuracy: 0.7573 - val_loss: 0.6617 - val_accuracy: 0.7375\n",
            "Epoch 92/100\n",
            "32/32 [==============================] - 0s 6ms/step - loss: 0.5072 - accuracy: 0.7763 - val_loss: 0.6032 - val_accuracy: 0.7500\n",
            "Epoch 93/100\n",
            "32/32 [==============================] - 0s 6ms/step - loss: 0.4752 - accuracy: 0.7955 - val_loss: 0.6717 - val_accuracy: 0.7500\n",
            "Epoch 94/100\n",
            "32/32 [==============================] - 0s 7ms/step - loss: 0.5083 - accuracy: 0.7927 - val_loss: 0.5848 - val_accuracy: 0.7500\n",
            "Epoch 95/100\n",
            "32/32 [==============================] - 0s 7ms/step - loss: 0.6140 - accuracy: 0.7439 - val_loss: 1.1342 - val_accuracy: 0.6250\n",
            "Epoch 96/100\n",
            "32/32 [==============================] - 0s 6ms/step - loss: 0.5558 - accuracy: 0.7528 - val_loss: 0.6679 - val_accuracy: 0.7250\n",
            "Epoch 97/100\n",
            "32/32 [==============================] - 0s 6ms/step - loss: 0.5237 - accuracy: 0.7594 - val_loss: 0.7528 - val_accuracy: 0.7250\n",
            "Epoch 98/100\n",
            "32/32 [==============================] - 0s 6ms/step - loss: 0.4398 - accuracy: 0.8460 - val_loss: 0.5541 - val_accuracy: 0.7625\n",
            "Epoch 99/100\n",
            "32/32 [==============================] - 0s 6ms/step - loss: 0.5208 - accuracy: 0.7624 - val_loss: 0.8360 - val_accuracy: 0.5750\n",
            "Epoch 100/100\n",
            "32/32 [==============================] - 0s 6ms/step - loss: 0.6112 - accuracy: 0.7273 - val_loss: 0.7484 - val_accuracy: 0.7375\n"
          ],
          "name": "stdout"
        },
        {
          "output_type": "execute_result",
          "data": {
            "text/plain": [
              "<tensorflow.python.keras.callbacks.History at 0x7f0770bd10f0>"
            ]
          },
          "metadata": {
            "tags": []
          },
          "execution_count": 15
        }
      ]
    },
    {
      "cell_type": "code",
      "metadata": {
        "id": "B8XhZt-5Qj5F"
      },
      "source": [
        "predictions = model.predict(X_test)"
      ],
      "execution_count": 16,
      "outputs": []
    },
    {
      "cell_type": "code",
      "metadata": {
        "colab": {
          "base_uri": "https://localhost:8080/",
          "height": 311
        },
        "id": "oyQ8_WTtP7ny",
        "outputId": "681c9d7b-ff90-48a5-b343-5e14c4ae44c4"
      },
      "source": [
        "cm = tf.math.confusion_matrix(labels=tf.argmax(y_test, 1), predictions=tf.argmax(predictions, 1))\n",
        "axis_labels = [\"Squat\", \"Jump\", \"Walk\", \"Run\", \"Other\"]\n",
        "figure = plt.figure(figsize=(6, 4))\n",
        "sns.heatmap(cm, annot=True,cmap=plt.cm.Blues,xticklabels=axis_labels, yticklabels=axis_labels)\n",
        "plt.ylim(len(cm)-0, 0)\n",
        "plt.tight_layout()\n",
        "plt.ylabel('True label')\n",
        "plt.xlabel('Predicted label')\n",
        "plt.show()"
      ],
      "execution_count": 17,
      "outputs": [
        {
          "output_type": "display_data",
          "data": {
            "image/png": "[encoded data removed]",
            "text/plain": [
              "<Figure size 432x288 with 2 Axes>"
            ]
          },
          "metadata": {
            "tags": [],
            "needs_background": "light"
          }
        }
      ]
    },
    {
      "cell_type": "code",
      "metadata": {
        "id": "OCzoxeXYQX-k"
      },
      "source": [
        ""
      ],
      "execution_count": 17,
      "outputs": []
    },
    {
      "cell_type": "code",
      "metadata": {
        "id": "AiVou7AFQrPP"
      },
      "source": [
        ""
      ],
      "execution_count": null,
      "outputs": []
    }
  ]
}